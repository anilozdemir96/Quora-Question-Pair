{
  "nbformat": 4,
  "nbformat_minor": 0,
  "metadata": {
    "colab": {
      "name": "ml-512-project.ipynb",
      "provenance": [],
      "collapsed_sections": [],
      "toc_visible": true,
      "machine_shape": "hm"
    },
    "kernelspec": {
      "name": "python3",
      "display_name": "Python 3"
    },
    "accelerator": "GPU"
  },
  "cells": [
    {
      "cell_type": "markdown",
      "metadata": {
        "id": "F39ERLLUckH0",
        "colab_type": "text"
      },
      "source": [
        "## Library Importing"
      ]
    },
    {
      "cell_type": "code",
      "metadata": {
        "id": "xSH_QHv8cgj1",
        "colab_type": "code",
        "colab": {
          "base_uri": "https://localhost:8080/",
          "height": 1000
        },
        "outputId": "25f20cd4-c02d-4d45-cc64-eb559ef1677c"
      },
      "source": [
        "import pandas as pd\n",
        "import numpy as np\n",
        "from sklearn.metrics import classification_report\n",
        "from sklearn.metrics import confusion_matrix\n",
        "\n",
        "from nltk.tokenize import word_tokenize \n",
        "!pip install krovetzstemmer\n",
        "import krovetzstemmer\n",
        "import nltk\n",
        "nltk.download(\"popular\")\n",
        "from nltk.corpus import stopwords\n",
        "from krovetzstemmer import Stemmer\n",
        "from collections import Counter\n",
        "from sklearn.metrics import classification_report\n",
        "from sklearn.metrics import confusion_matrix\n",
        "\n",
        "!pip install -q keras\n",
        "import keras\n",
        "from os import path\n",
        "from wheel.pep425tags import get_abbr_impl, get_impl_ver, get_abi_tag\n",
        "platform = '{}{}-{}'.format(get_abbr_impl(), get_impl_ver(), get_abi_tag())\n",
        "accelerator = 'cu80' if path.exists('/opt/bin/nvidia-smi') else 'cpu'\n",
        "print(accelerator)\n",
        "from keras.preprocessing.text import Tokenizer\n",
        "from keras.preprocessing.sequence import pad_sequences\n",
        "from keras import backend as K\n",
        "from keras.models import Sequential\n",
        "from keras import layers\n"
      ],
      "execution_count": null,
      "outputs": [
        {
          "output_type": "stream",
          "text": [
            "Collecting krovetzstemmer\n",
            "\u001b[?25l  Downloading https://files.pythonhosted.org/packages/85/66/1c7d1ac926618d939cca6d334cf7d44212b858815d8ded3f8d534f0fa057/KrovetzStemmer-0.6.tar.gz (111kB)\n",
            "\r\u001b[K     |███                             | 10kB 24.2MB/s eta 0:00:01\r\u001b[K     |█████▉                          | 20kB 1.7MB/s eta 0:00:01\r\u001b[K     |████████▉                       | 30kB 2.6MB/s eta 0:00:01\r\u001b[K     |███████████▊                    | 40kB 1.7MB/s eta 0:00:01\r\u001b[K     |██████████████▋                 | 51kB 2.1MB/s eta 0:00:01\r\u001b[K     |█████████████████▋              | 61kB 2.5MB/s eta 0:00:01\r\u001b[K     |████████████████████▌           | 71kB 2.9MB/s eta 0:00:01\r\u001b[K     |███████████████████████▌        | 81kB 3.3MB/s eta 0:00:01\r\u001b[K     |██████████████████████████▍     | 92kB 3.7MB/s eta 0:00:01\r\u001b[K     |█████████████████████████████▎  | 102kB 2.8MB/s eta 0:00:01\r\u001b[K     |████████████████████████████████| 112kB 2.8MB/s \n",
            "\u001b[?25hBuilding wheels for collected packages: krovetzstemmer\n",
            "  Building wheel for krovetzstemmer (setup.py) ... \u001b[?25l\u001b[?25hdone\n",
            "  Created wheel for krovetzstemmer: filename=KrovetzStemmer-0.6-cp36-cp36m-linux_x86_64.whl size=351581 sha256=05e4ddb902a7b17ff8614c22d39e5e68f882867b9bde113d31f13db74d088c9a\n",
            "  Stored in directory: /root/.cache/pip/wheels/fd/3b/64/498593e2be842a1c29c5ae68017c1b0ff548889305897b65d4\n",
            "Successfully built krovetzstemmer\n",
            "Installing collected packages: krovetzstemmer\n",
            "Successfully installed krovetzstemmer-0.6\n",
            "[nltk_data] Downloading collection 'popular'\n",
            "[nltk_data]    | \n",
            "[nltk_data]    | Downloading package cmudict to /root/nltk_data...\n",
            "[nltk_data]    |   Unzipping corpora/cmudict.zip.\n",
            "[nltk_data]    | Downloading package gazetteers to /root/nltk_data...\n",
            "[nltk_data]    |   Unzipping corpora/gazetteers.zip.\n",
            "[nltk_data]    | Downloading package genesis to /root/nltk_data...\n",
            "[nltk_data]    |   Unzipping corpora/genesis.zip.\n",
            "[nltk_data]    | Downloading package gutenberg to /root/nltk_data...\n",
            "[nltk_data]    |   Unzipping corpora/gutenberg.zip.\n",
            "[nltk_data]    | Downloading package inaugural to /root/nltk_data...\n",
            "[nltk_data]    |   Unzipping corpora/inaugural.zip.\n",
            "[nltk_data]    | Downloading package movie_reviews to\n",
            "[nltk_data]    |     /root/nltk_data...\n",
            "[nltk_data]    |   Unzipping corpora/movie_reviews.zip.\n",
            "[nltk_data]    | Downloading package names to /root/nltk_data...\n",
            "[nltk_data]    |   Unzipping corpora/names.zip.\n",
            "[nltk_data]    | Downloading package shakespeare to /root/nltk_data...\n",
            "[nltk_data]    |   Unzipping corpora/shakespeare.zip.\n",
            "[nltk_data]    | Downloading package stopwords to /root/nltk_data...\n",
            "[nltk_data]    |   Unzipping corpora/stopwords.zip.\n",
            "[nltk_data]    | Downloading package treebank to /root/nltk_data...\n",
            "[nltk_data]    |   Unzipping corpora/treebank.zip.\n",
            "[nltk_data]    | Downloading package twitter_samples to\n",
            "[nltk_data]    |     /root/nltk_data...\n",
            "[nltk_data]    |   Unzipping corpora/twitter_samples.zip.\n",
            "[nltk_data]    | Downloading package omw to /root/nltk_data...\n",
            "[nltk_data]    |   Unzipping corpora/omw.zip.\n",
            "[nltk_data]    | Downloading package wordnet to /root/nltk_data...\n",
            "[nltk_data]    |   Unzipping corpora/wordnet.zip.\n",
            "[nltk_data]    | Downloading package wordnet_ic to /root/nltk_data...\n",
            "[nltk_data]    |   Unzipping corpora/wordnet_ic.zip.\n",
            "[nltk_data]    | Downloading package words to /root/nltk_data...\n",
            "[nltk_data]    |   Unzipping corpora/words.zip.\n",
            "[nltk_data]    | Downloading package maxent_ne_chunker to\n",
            "[nltk_data]    |     /root/nltk_data...\n",
            "[nltk_data]    |   Unzipping chunkers/maxent_ne_chunker.zip.\n",
            "[nltk_data]    | Downloading package punkt to /root/nltk_data...\n",
            "[nltk_data]    |   Unzipping tokenizers/punkt.zip.\n",
            "[nltk_data]    | Downloading package snowball_data to\n",
            "[nltk_data]    |     /root/nltk_data...\n",
            "[nltk_data]    | Downloading package averaged_perceptron_tagger to\n",
            "[nltk_data]    |     /root/nltk_data...\n",
            "[nltk_data]    |   Unzipping taggers/averaged_perceptron_tagger.zip.\n",
            "[nltk_data]    | \n",
            "[nltk_data]  Done downloading collection popular\n"
          ],
          "name": "stdout"
        },
        {
          "output_type": "stream",
          "text": [
            "Using TensorFlow backend.\n"
          ],
          "name": "stderr"
        },
        {
          "output_type": "display_data",
          "data": {
            "text/html": [
              "<p style=\"color: red;\">\n",
              "The default version of TensorFlow in Colab will soon switch to TensorFlow 2.x.<br>\n",
              "We recommend you <a href=\"https://www.tensorflow.org/guide/migrate\" target=\"_blank\">upgrade</a> now \n",
              "or ensure your notebook will continue to use TensorFlow 1.x via the <code>%tensorflow_version 1.x</code> magic:\n",
              "<a href=\"https://colab.research.google.com/notebooks/tensorflow_version.ipynb\" target=\"_blank\">more info</a>.</p>\n"
            ],
            "text/plain": [
              "<IPython.core.display.HTML object>"
            ]
          },
          "metadata": {
            "tags": []
          }
        },
        {
          "output_type": "stream",
          "text": [
            "cu80\n"
          ],
          "name": "stdout"
        }
      ]
    },
    {
      "cell_type": "code",
      "metadata": {
        "id": "oRBVP6wuNzBv",
        "colab_type": "code",
        "colab": {
          "base_uri": "https://localhost:8080/",
          "height": 118
        },
        "outputId": "c4104c29-c8c6-484d-b9a3-3e165dd21cc9"
      },
      "source": [
        "from google.colab import drive\n",
        "drive.mount('/content/drive')"
      ],
      "execution_count": null,
      "outputs": [
        {
          "output_type": "stream",
          "text": [
            "Go to this URL in a browser: https://accounts.google.com/o/oauth2/auth?client_id=947318989803-6bn6qk8qdgf4n4g3pfee6491hc0brc4i.apps.googleusercontent.com&redirect_uri=urn%3aietf%3awg%3aoauth%3a2.0%3aoob&response_type=code&scope=email%20https%3a%2f%2fwww.googleapis.com%2fauth%2fdocs.test%20https%3a%2f%2fwww.googleapis.com%2fauth%2fdrive%20https%3a%2f%2fwww.googleapis.com%2fauth%2fdrive.photos.readonly%20https%3a%2f%2fwww.googleapis.com%2fauth%2fpeopleapi.readonly\n",
            "\n",
            "Enter your authorization code:\n",
            "··········\n",
            "Mounted at /content/drive\n"
          ],
          "name": "stdout"
        }
      ]
    },
    {
      "cell_type": "markdown",
      "metadata": {
        "id": "5lbOCS9yJ4bj",
        "colab_type": "text"
      },
      "source": [
        "## Data Importing,Pre-processing, Train-Test Split"
      ]
    },
    {
      "cell_type": "code",
      "metadata": {
        "id": "9kmry_9aNlZi",
        "colab_type": "code",
        "colab": {
          "base_uri": "https://localhost:8080/",
          "height": 53
        },
        "outputId": "9f223f37-da14-4067-b44b-71262f7f72c7"
      },
      "source": [
        "\n",
        "\n",
        "\n",
        "train=pd.read_csv(\"/content/drive/My Drive/QUORA/train.csv\" )\n",
        "test=pd.read_csv(\"/content/drive/My Drive/QUORA/test.csv\")\n",
        "\n",
        "train=train.dropna()\n",
        "test=test.dropna()\n",
        "\n",
        "#Notation 1:\n",
        "\"\"\"\n",
        "Since we do not have labels for test data which provided by Kaggle, we will use 125% percent of \n",
        "training data for the testing. 350.000 record for train and 50.000 record for testing.\"\"\"\n",
        "#Notation 2:\n",
        "\"\"\"\n",
        "For time efficiency, we will find the optimal hyperparameters of models with using sub-train data,\n",
        "later we use these obtained hyperparameters on the Actual data. \n",
        "This sub-data is called x_train_trial which consist of 20000 records.\"\"\"\n"
      ],
      "execution_count": null,
      "outputs": [
        {
          "output_type": "execute_result",
          "data": {
            "text/plain": [
              "'\\nFor time efficiency, we will find the optimal hyperparameters of models with using sub-train data,\\nlater we use these obtained hyperparameters on the Actual data. \\nThis sub-data is called x_train_trial which consist of 20000 records.'"
            ]
          },
          "metadata": {
            "tags": []
          },
          "execution_count": 3
        }
      ]
    },
    {
      "cell_type": "code",
      "metadata": {
        "id": "9DNTWR1ae3Zz",
        "colab_type": "code",
        "colab": {
          "base_uri": "https://localhost:8080/",
          "height": 33
        },
        "outputId": "9301c59a-e0f7-493c-d30a-885c2827a199"
      },
      "source": [
        "train.columns"
      ],
      "execution_count": null,
      "outputs": [
        {
          "output_type": "execute_result",
          "data": {
            "text/plain": [
              "Index(['id', 'qid1', 'qid2', 'question1', 'question2', 'is_duplicate'], dtype='object')"
            ]
          },
          "metadata": {
            "tags": []
          },
          "execution_count": 4
        }
      ]
    },
    {
      "cell_type": "code",
      "metadata": {
        "id": "QmMfhSm3QPqO",
        "colab_type": "code",
        "colab": {
          "base_uri": "https://localhost:8080/",
          "height": 212
        },
        "outputId": "aec176fe-924a-4889-83aa-e0005d01c802"
      },
      "source": [
        "import sklearn \n",
        "from sklearn.model_selection import train_test_split\n",
        "\n",
        "X=train[[ \"qid1\",\"qid2\",'question1','question2']] \n",
        "y=train['is_duplicate']\n",
        "\n",
        "#Handling format related issues , not important.\n",
        "X['question1'] = X['question1'].astype(str)\n",
        "X['question2'] = X['question2'].astype(str)\n"
      ],
      "execution_count": null,
      "outputs": [
        {
          "output_type": "stream",
          "text": [
            "/usr/local/lib/python3.6/dist-packages/ipykernel_launcher.py:8: SettingWithCopyWarning: \n",
            "A value is trying to be set on a copy of a slice from a DataFrame.\n",
            "Try using .loc[row_indexer,col_indexer] = value instead\n",
            "\n",
            "See the caveats in the documentation: http://pandas.pydata.org/pandas-docs/stable/user_guide/indexing.html#returning-a-view-versus-a-copy\n",
            "  \n",
            "/usr/local/lib/python3.6/dist-packages/ipykernel_launcher.py:9: SettingWithCopyWarning: \n",
            "A value is trying to be set on a copy of a slice from a DataFrame.\n",
            "Try using .loc[row_indexer,col_indexer] = value instead\n",
            "\n",
            "See the caveats in the documentation: http://pandas.pydata.org/pandas-docs/stable/user_guide/indexing.html#returning-a-view-versus-a-copy\n",
            "  if __name__ == '__main__':\n"
          ],
          "name": "stderr"
        }
      ]
    },
    {
      "cell_type": "code",
      "metadata": {
        "id": "6dkSX-EbOLVb",
        "colab_type": "code",
        "colab": {
          "base_uri": "https://localhost:8080/",
          "height": 50
        },
        "outputId": "a983bad9-3207-4a4a-93a9-f7d071db2f86"
      },
      "source": [
        "print(X.shape)\n",
        "print(y.shape)\n",
        "\n",
        "\n"
      ],
      "execution_count": null,
      "outputs": [
        {
          "output_type": "stream",
          "text": [
            "(404287, 4)\n",
            "(404287,)\n"
          ],
          "name": "stdout"
        }
      ]
    },
    {
      "cell_type": "markdown",
      "metadata": {
        "id": "6dr9VRHLRSTz",
        "colab_type": "text"
      },
      "source": [
        "### Pre-Processing\n",
        "Lowercase operation, Remove punctiation , Stopword removal,  Tokenization"
      ]
    },
    {
      "cell_type": "code",
      "metadata": {
        "id": "SRlPWR_lOtBU",
        "colab_type": "code",
        "colab": {
          "base_uri": "https://localhost:8080/",
          "height": 212
        },
        "outputId": "8223c5c3-ec9e-4113-c915-8c83928545b9"
      },
      "source": [
        "#1- Make all lowercase.\n",
        "\n",
        "X.question1 = X.question1.str.lower()\n",
        "X.question2 = X.question2.str.lower()\n",
        "\n",
        "#X_test.question1 = X_test.question1.str.lower()\n",
        "#X_test.question2 = X_test.question2.str.lower()\n",
        "\n",
        "\n",
        "\n",
        "#Tokenization and Removing non-alphanumerical  characters and stopword-removal for question 1-2 in train-test\n",
        "\n",
        "stop_words = set(stopwords.words('english')) \n",
        "\n",
        "filtered_words=[]\n",
        "for word in X[\"question1\"]:\n",
        "\n",
        "    word_tokens=word_tokenize(word)\n",
        "\n",
        "    filtered_sentence = [w for w in word_tokens if ((not w in stop_words) and w.isalpha()==True)] \n",
        "    #filtered_sentence = [w for w in word_tokens if (w.isalpha()==True)] #stopword bu şekilde kaldırıldı.\n",
        "    filtered_words.append(filtered_sentence)\n",
        "\n",
        "X[\"question1_tokenized\"]=filtered_words\n",
        "\n",
        "filtered_words=[]\n",
        "for word in X[\"question2\"]:\n",
        "    word_tokens = word_tokenize(word) \n",
        "\n",
        "    filtered_sentence = [w for w in word_tokens if ((not w in stop_words) and w.isalpha()==True)]\n",
        "    #filtered_sentence = [w for w in word_tokens if ( w.isalpha()==True)] \n",
        "    filtered_words.append(filtered_sentence)\n",
        "\n",
        "X[\"question2_tokenized\"]=filtered_words\n",
        "#Xtest\n",
        "\n",
        "###########################################################################################\n",
        "\n",
        "print(\"Stemming begins !\")\n",
        "\n",
        "stemmer = Stemmer()\n",
        "stemmer.stem('utilities')  # got: 'utility'\n",
        "\n",
        "#For stemming tranining data\n",
        "dum=X[\"question1_tokenized\"]\n",
        "stemmed_tweets=[]\n",
        "for tweet in dum:\n",
        "    tweet_arr=[]\n",
        "    for word in tweet :\n",
        "        #print(stemmer.stem(word))\n",
        "        tweet_arr.append(stemmer.stem(word))\n",
        "    stemmed_tweets.append(tweet_arr)\n",
        "    \n",
        "X[\"question1-stemmed\"]=stemmed_tweets\n",
        "\n",
        "#for q2\n",
        "dum=X[\"question2_tokenized\"]\n",
        "stemmed_tweets=[]\n",
        "for tweet in dum:\n",
        "    tweet_arr=[]\n",
        "    for word in tweet :\n",
        "        #print(stemmer.stem(word))\n",
        "        tweet_arr.append(stemmer.stem(word))\n",
        "    stemmed_tweets.append(tweet_arr)\n",
        "    \n",
        "X[\"question2-stemmed\"]=stemmed_tweets\n",
        "\n",
        "\n",
        "\n"
      ],
      "execution_count": null,
      "outputs": [
        {
          "output_type": "stream",
          "text": [
            "/usr/local/lib/python3.6/dist-packages/pandas/core/generic.py:5208: SettingWithCopyWarning: \n",
            "A value is trying to be set on a copy of a slice from a DataFrame.\n",
            "Try using .loc[row_indexer,col_indexer] = value instead\n",
            "\n",
            "See the caveats in the documentation: http://pandas.pydata.org/pandas-docs/stable/user_guide/indexing.html#returning-a-view-versus-a-copy\n",
            "  self[name] = value\n",
            "/usr/local/lib/python3.6/dist-packages/ipykernel_launcher.py:23: SettingWithCopyWarning: \n",
            "A value is trying to be set on a copy of a slice from a DataFrame.\n",
            "Try using .loc[row_indexer,col_indexer] = value instead\n",
            "\n",
            "See the caveats in the documentation: http://pandas.pydata.org/pandas-docs/stable/user_guide/indexing.html#returning-a-view-versus-a-copy\n"
          ],
          "name": "stderr"
        },
        {
          "output_type": "stream",
          "text": [
            "Stemming begins !\n"
          ],
          "name": "stdout"
        }
      ]
    },
    {
      "cell_type": "code",
      "metadata": {
        "id": "1rbYnS4VO_oM",
        "colab_type": "code",
        "colab": {}
      },
      "source": [
        "#some reverse-reprocessingg for distance calculation\n",
        "m=[]\n",
        "for w in X[\"question1-stemmed\"]:\n",
        "    a=\" \".join(w)\n",
        "    m.append(a)\n",
        "X[\"question1\"]=m\n",
        "\n",
        "\n",
        "m=[]\n",
        "for w in X[\"question2-stemmed\"]:\n",
        "    a=\" \".join(w)\n",
        "    m.append(a)\n",
        "X[\"question2\"]=m\n",
        "\n",
        "\n",
        "\n"
      ],
      "execution_count": null,
      "outputs": []
    },
    {
      "cell_type": "code",
      "metadata": {
        "id": "fFKtwBwXPPpc",
        "colab_type": "code",
        "colab": {
          "base_uri": "https://localhost:8080/",
          "height": 50
        },
        "outputId": "dd2da161-b13f-4303-f41c-f4dfd4a2eb95"
      },
      "source": [
        "print(X.shape)\n",
        "print(y.shape)"
      ],
      "execution_count": null,
      "outputs": [
        {
          "output_type": "stream",
          "text": [
            "(404287, 8)\n",
            "(404287,)\n"
          ],
          "name": "stdout"
        }
      ]
    },
    {
      "cell_type": "code",
      "metadata": {
        "id": "e5XoLt3G_9A6",
        "colab_type": "code",
        "colab": {
          "base_uri": "https://localhost:8080/",
          "height": 92
        },
        "outputId": "f31756d8-b42d-4185-be8f-c99de7e24ef2"
      },
      "source": [
        "X.head(1)"
      ],
      "execution_count": null,
      "outputs": [
        {
          "output_type": "execute_result",
          "data": {
            "text/html": [
              "<div>\n",
              "<style scoped>\n",
              "    .dataframe tbody tr th:only-of-type {\n",
              "        vertical-align: middle;\n",
              "    }\n",
              "\n",
              "    .dataframe tbody tr th {\n",
              "        vertical-align: top;\n",
              "    }\n",
              "\n",
              "    .dataframe thead th {\n",
              "        text-align: right;\n",
              "    }\n",
              "</style>\n",
              "<table border=\"1\" class=\"dataframe\">\n",
              "  <thead>\n",
              "    <tr style=\"text-align: right;\">\n",
              "      <th></th>\n",
              "      <th>qid1</th>\n",
              "      <th>qid2</th>\n",
              "      <th>question1</th>\n",
              "      <th>question2</th>\n",
              "      <th>question1_tokenized</th>\n",
              "      <th>question2_tokenized</th>\n",
              "      <th>question1-stemmed</th>\n",
              "      <th>question2-stemmed</th>\n",
              "    </tr>\n",
              "  </thead>\n",
              "  <tbody>\n",
              "    <tr>\n",
              "      <th>0</th>\n",
              "      <td>1</td>\n",
              "      <td>2</td>\n",
              "      <td>step step guide invest share market india</td>\n",
              "      <td>step step guide invest share market</td>\n",
              "      <td>[step, step, guide, invest, share, market, india]</td>\n",
              "      <td>[step, step, guide, invest, share, market]</td>\n",
              "      <td>[step, step, guide, invest, share, market, india]</td>\n",
              "      <td>[step, step, guide, invest, share, market]</td>\n",
              "    </tr>\n",
              "  </tbody>\n",
              "</table>\n",
              "</div>"
            ],
            "text/plain": [
              "   qid1  ...                           question2-stemmed\n",
              "0     1  ...  [step, step, guide, invest, share, market]\n",
              "\n",
              "[1 rows x 8 columns]"
            ]
          },
          "metadata": {
            "tags": []
          },
          "execution_count": 10
        }
      ]
    },
    {
      "cell_type": "markdown",
      "metadata": {
        "id": "E7FfOdBsi6SR",
        "colab_type": "text"
      },
      "source": [
        "### Train - Test Split"
      ]
    },
    {
      "cell_type": "code",
      "metadata": {
        "id": "nD9d3RA7jD9m",
        "colab_type": "code",
        "colab": {}
      },
      "source": [
        "X_train, X_test, y_train, y_test = train_test_split(X, y, test_size=0.125, random_state=42,shuffle=True) #This is all data\n"
      ],
      "execution_count": null,
      "outputs": []
    },
    {
      "cell_type": "markdown",
      "metadata": {
        "id": "y3PZTNYrh2FQ",
        "colab_type": "text"
      },
      "source": [
        "## Seperate Feature Extraction for train and test :"
      ]
    },
    {
      "cell_type": "code",
      "metadata": {
        "id": "nuwSONqqX3O8",
        "colab_type": "code",
        "colab": {
          "base_uri": "https://localhost:8080/",
          "height": 70
        },
        "outputId": "e87f597f-e5ac-4b4c-b3fa-87561d94b931"
      },
      "source": [
        "import gensim\n",
        "\n",
        "# Load Google's pre-trained Word2Vec model.\n",
        "w2v_model = gensim.models.KeyedVectors.load_word2vec_format(\"/content/drive/My Drive/GoogleNews-vectors-negative300.bin.gz\", binary=True)"
      ],
      "execution_count": null,
      "outputs": [
        {
          "output_type": "stream",
          "text": [
            "/usr/local/lib/python3.6/dist-packages/smart_open/smart_open_lib.py:402: UserWarning: This function is deprecated, use smart_open.open instead. See the migration notes for details: https://github.com/RaRe-Technologies/smart_open/blob/master/README.rst#migrating-to-the-new-open-function\n",
            "  'See the migration notes for details: %s' % _MIGRATION_NOTES_URL\n"
          ],
          "name": "stderr"
        }
      ]
    },
    {
      "cell_type": "markdown",
      "metadata": {
        "id": "kBt6yv4GvnGL",
        "colab_type": "text"
      },
      "source": [
        ""
      ]
    },
    {
      "cell_type": "markdown",
      "metadata": {
        "id": "DuPk2t32iepQ",
        "colab_type": "text"
      },
      "source": [
        "### Computing Word Mover's Distance (WMD)\n",
        "\n",
        "\n",
        "The WMD measures the dissimilarity between two text documents as the minimum amount of distance that the embedded words of one document need to \"travel\" to reach the embedded words of another document. WMD, uses the Euclidean distance. The Euclidean distance between two vectors might be large because their lengths differ, but the cosine distance is small because the angle between them is small; we can mitigate some of this by normalizing the vectors."
      ]
    },
    {
      "cell_type": "code",
      "metadata": {
        "id": "FczjSVfupJL_",
        "colab_type": "code",
        "colab": {
          "base_uri": "https://localhost:8080/",
          "height": 50
        },
        "outputId": "c41acdb8-efdf-47c1-d511-aa96400ce9a3"
      },
      "source": [
        "#Just a example\n",
        "distance = w2v_model.wmdistance(X.iloc[0,2], X.iloc[0,3])\n",
        "print(X.iloc[0,2],\" - \", X.iloc[0,3]) # corresponds first q1 and q2 in 10'th row.\n",
        "print ('distance = %.4f' % distance)\n",
        "\n"
      ],
      "execution_count": null,
      "outputs": [
        {
          "output_type": "stream",
          "text": [
            "step step guide invest share market india  -  step step guide invest share market\n",
            "distance = 0.3145\n"
          ],
          "name": "stdout"
        }
      ]
    },
    {
      "cell_type": "code",
      "metadata": {
        "id": "RLN3kP7rh95x",
        "colab_type": "code",
        "colab": {}
      },
      "source": [
        "# Calculate distance and add it as a new feature for train\n",
        "wmd_dists=[]\n",
        "for i in range (0,len(X_train)):\n",
        "    distance = w2v_model.wmdistance(X_train.iloc[i,2], X_train.iloc[i,3])\n",
        "    if distance >10000:\n",
        "      wmd_dists.append(0)\n",
        "    else:\n",
        "      wmd_dists.append(distance)\n",
        "\n",
        "X_train['WMD']=wmd_dists\n",
        "\n",
        "\n",
        "#For test\n",
        "\n",
        "wmd_dists=[]\n",
        "for i in range (0,len(X_test)):\n",
        "    distance = w2v_model.wmdistance(X_test.iloc[i,2], X_test.iloc[i,3])\n",
        "    if distance >10000:\n",
        "      wmd_dists.append(0)\n",
        "    else:\n",
        "      wmd_dists.append(distance)\n",
        "\n",
        "X_test['WMD']=wmd_dists\n",
        "\n",
        "\n"
      ],
      "execution_count": null,
      "outputs": []
    },
    {
      "cell_type": "code",
      "metadata": {
        "id": "TOFErTV7yYCc",
        "colab_type": "code",
        "colab": {
          "base_uri": "https://localhost:8080/",
          "height": 147
        },
        "outputId": "3bff14ea-7add-4842-94f4-56e43c8f4673"
      },
      "source": [
        "print(X_train.columns)\n",
        "print(X_test.columns)"
      ],
      "execution_count": null,
      "outputs": [
        {
          "output_type": "stream",
          "text": [
            "Index(['qid1', 'qid2', 'question1', 'question2', 'question1_tokenized',\n",
            "       'question2_tokenized', 'question1-stemmed', 'question2-stemmed',\n",
            "       'wordShare', 'common_words', 'shared-tfidf', 'WMD'],\n",
            "      dtype='object')\n",
            "Index(['qid1', 'qid2', 'question1', 'question2', 'question1_tokenized',\n",
            "       'question2_tokenized', 'question1-stemmed', 'question2-stemmed',\n",
            "       'wordShare', 'common_words', 'shared-tfidf', 'WMD'],\n",
            "      dtype='object')\n"
          ],
          "name": "stdout"
        }
      ]
    },
    {
      "cell_type": "markdown",
      "metadata": {
        "id": "yhlc7gSDzR_M",
        "colab_type": "text"
      },
      "source": [
        "### Adding Question Frequencies"
      ]
    },
    {
      "cell_type": "code",
      "metadata": {
        "id": "cNt_tmVwzI4T",
        "colab_type": "code",
        "colab": {}
      },
      "source": [
        "#Adding frequencies of questions  for X_train\n",
        "q1_frequency = X_train.groupby('qid1')['qid1'].transform('count')\n",
        "q2_frequency = X_train.groupby('qid2')['qid2'].transform('count')\n",
        "X_train['Q1-FREQ'] =q1_frequency\n",
        "X_train['Q2-FREQ'] =q2_frequency\n",
        "\n"
      ],
      "execution_count": null,
      "outputs": []
    },
    {
      "cell_type": "code",
      "metadata": {
        "id": "a9SyuLnbzw4f",
        "colab_type": "code",
        "colab": {}
      },
      "source": [
        "#Adding frequencies of questions  for X_test\n",
        "q1_frequency = X_test.groupby('qid1')['qid1'].transform('count')\n",
        "q2_frequency = X_test.groupby('qid2')['qid2'].transform('count')\n",
        "X_test['Q1-FREQ'] =q1_frequency\n",
        "X_test['Q2-FREQ'] =q2_frequency\n"
      ],
      "execution_count": null,
      "outputs": []
    },
    {
      "cell_type": "code",
      "metadata": {
        "id": "CO2fuu560Cnq",
        "colab_type": "code",
        "colab": {
          "base_uri": "https://localhost:8080/",
          "height": 147
        },
        "outputId": "2e96e405-108f-48ee-c5f7-05c992359f44"
      },
      "source": [
        "print(X_train.columns)\n",
        "print(X_test.columns)"
      ],
      "execution_count": null,
      "outputs": [
        {
          "output_type": "stream",
          "text": [
            "Index(['qid1', 'qid2', 'question1', 'question2', 'question1_tokenized',\n",
            "       'question2_tokenized', 'question1-stemmed', 'question2-stemmed', 'WMD',\n",
            "       'Q1-FREQ', 'Q2-FREQ'],\n",
            "      dtype='object')\n",
            "Index(['qid1', 'qid2', 'question1', 'question2', 'question1_tokenized',\n",
            "       'question2_tokenized', 'question1-stemmed', 'question2-stemmed', 'WMD',\n",
            "       'Q1-FREQ', 'Q2-FREQ'],\n",
            "      dtype='object')\n"
          ],
          "name": "stdout"
        }
      ]
    },
    {
      "cell_type": "markdown",
      "metadata": {
        "id": "UcwzMmaX0SGF",
        "colab_type": "text"
      },
      "source": [
        "### Calculate  #of Common Words between question pairs"
      ]
    },
    {
      "cell_type": "code",
      "metadata": {
        "id": "uV3H92e2itxS",
        "colab_type": "code",
        "colab": {
          "base_uri": "https://localhost:8080/",
          "height": 212
        },
        "outputId": "59beee35-b5cd-4d66-d88a-9a0bdf53ec51"
      },
      "source": [
        "def common(row):\n",
        "  return int(len(set(row['question1'].lower().strip().split()) & set(row['question2'].lower().strip().split())))\n",
        "\n",
        "\n",
        "X_train['wordShare'] = X_train.apply(lambda row: common(row), axis = 1);\n",
        "X_test['wordShare'] = X_test.apply(lambda row: common(row), axis = 1);\n",
        "\n",
        "\n"
      ],
      "execution_count": null,
      "outputs": [
        {
          "output_type": "stream",
          "text": [
            "/usr/local/lib/python3.6/dist-packages/ipykernel_launcher.py:5: SettingWithCopyWarning: \n",
            "A value is trying to be set on a copy of a slice from a DataFrame.\n",
            "Try using .loc[row_indexer,col_indexer] = value instead\n",
            "\n",
            "See the caveats in the documentation: http://pandas.pydata.org/pandas-docs/stable/user_guide/indexing.html#returning-a-view-versus-a-copy\n",
            "  \"\"\"\n",
            "/usr/local/lib/python3.6/dist-packages/ipykernel_launcher.py:6: SettingWithCopyWarning: \n",
            "A value is trying to be set on a copy of a slice from a DataFrame.\n",
            "Try using .loc[row_indexer,col_indexer] = value instead\n",
            "\n",
            "See the caveats in the documentation: http://pandas.pydata.org/pandas-docs/stable/user_guide/indexing.html#returning-a-view-versus-a-copy\n",
            "  \n"
          ],
          "name": "stderr"
        }
      ]
    },
    {
      "cell_type": "code",
      "metadata": {
        "id": "MdOs4jbkyAUq",
        "colab_type": "code",
        "colab": {
          "base_uri": "https://localhost:8080/",
          "height": 196
        },
        "outputId": "51148171-f988-4dfc-e3b1-809933f9cf2f"
      },
      "source": [
        "DUMMY=X_train\n",
        "DUMMY['common_words']=\"\"\n",
        "\n",
        "def common_words(row):\n",
        "  q1words=row['question1'].split()\n",
        "  q2words=row['question2'].split()\n",
        "\n",
        "  common=set(q1words).intersection(set(q2words))\n",
        "  j=\" \".join(common)\n",
        "  row['common_words']=j\n",
        "\n",
        "  return row\n",
        "\n",
        "arr=DUMMY.apply(common_words,axis=1)\n",
        "\n",
        "\n",
        "##########For test\n",
        "\n",
        "DUMMY2=X_test\n",
        "DUMMY2['common_words']=\"\"\n",
        "arr2=DUMMY2.apply(common_words,axis=1)"
      ],
      "execution_count": null,
      "outputs": [
        {
          "output_type": "stream",
          "text": [
            "/usr/local/lib/python3.6/dist-packages/ipykernel_launcher.py:2: SettingWithCopyWarning: \n",
            "A value is trying to be set on a copy of a slice from a DataFrame.\n",
            "Try using .loc[row_indexer,col_indexer] = value instead\n",
            "\n",
            "See the caveats in the documentation: http://pandas.pydata.org/pandas-docs/stable/user_guide/indexing.html#returning-a-view-versus-a-copy\n",
            "  \n",
            "/usr/local/lib/python3.6/dist-packages/ipykernel_launcher.py:20: SettingWithCopyWarning: \n",
            "A value is trying to be set on a copy of a slice from a DataFrame.\n",
            "Try using .loc[row_indexer,col_indexer] = value instead\n",
            "\n",
            "See the caveats in the documentation: http://pandas.pydata.org/pandas-docs/stable/user_guide/indexing.html#returning-a-view-versus-a-copy\n"
          ],
          "name": "stderr"
        }
      ]
    },
    {
      "cell_type": "markdown",
      "metadata": {
        "id": "vZmIi30U05Nm",
        "colab_type": "text"
      },
      "source": [
        "### Calculation of TF-IDF"
      ]
    },
    {
      "cell_type": "code",
      "metadata": {
        "id": "RiBV7aND1IN2",
        "colab_type": "code",
        "colab": {
          "base_uri": "https://localhost:8080/",
          "height": 50
        },
        "outputId": "e3268e99-89c8-4c71-8114-ff94ba46d211"
      },
      "source": [
        "#Example\n",
        "\n",
        "#As below example, we create the tf-idf matrix with the train data and then apply this transormation to the   X_test.\n",
        "#This means there is no any information leak!\n",
        "#If there is unknown word in Test, than tf-idf score is 0.\n",
        "\n",
        "#BELOW IS THE EXAMPLE NOT REAL DATA !\n",
        "from sklearn.feature_extraction.text import TfidfVectorizer\n",
        "vect = TfidfVectorizer()\n",
        "x_train = [\"We love apples\", \"We really love bananas\"]\n",
        "vect.fit(x_train)\n",
        "print(vect.get_feature_names())\n",
        "\n",
        "x_test =  [\"We really love pears\"]\n",
        "\n",
        "vectorized = vect.transform(x_test)\n",
        "print(vectorized.mean())\n",
        "####################################"
      ],
      "execution_count": null,
      "outputs": [
        {
          "output_type": "stream",
          "text": [
            "['apples', 'bananas', 'love', 'really', 'we']\n",
            "0.34160146062393804\n"
          ],
          "name": "stdout"
        }
      ]
    },
    {
      "cell_type": "code",
      "metadata": {
        "id": "DtL6049R2YwD",
        "colab_type": "code",
        "colab": {}
      },
      "source": [
        "X_train=arr\n",
        "X_test=arr2"
      ],
      "execution_count": null,
      "outputs": []
    },
    {
      "cell_type": "code",
      "metadata": {
        "id": "x5kgWLYpxj0K",
        "colab_type": "code",
        "colab": {
          "base_uri": "https://localhost:8080/",
          "height": 33
        },
        "outputId": "f8c2a379-c72d-4c37-a447-7fb280395b40"
      },
      "source": [
        "#Now let's calculate the tf-idf\n",
        "from collections import Counter\n",
        "\n",
        "#Create Bag of Word\n",
        "questions1 = X_train['question1'];\n",
        "questions2 = X_train['question2'];\n",
        "bow = list(questions1) + list(questions2);\n",
        "#bow= Counter([ str(word) for quest in questions for word in quest])\n",
        "print(type(bow))"
      ],
      "execution_count": null,
      "outputs": [
        {
          "output_type": "stream",
          "text": [
            "<class 'list'>\n"
          ],
          "name": "stdout"
        }
      ]
    },
    {
      "cell_type": "code",
      "metadata": {
        "id": "SKTeSt6U0f4U",
        "colab_type": "code",
        "colab": {}
      },
      "source": [
        "#vectorized.toarray()[0].mean()"
      ],
      "execution_count": null,
      "outputs": []
    },
    {
      "cell_type": "code",
      "metadata": {
        "id": "fBwpE9YDwjB5",
        "colab_type": "code",
        "colab": {
          "base_uri": "https://localhost:8080/",
          "height": 66
        },
        "outputId": "1c0e9727-8906-487e-ad49-2dd86f1e6964"
      },
      "source": [
        "list(bow)[0:3]"
      ],
      "execution_count": null,
      "outputs": [
        {
          "output_type": "execute_result",
          "data": {
            "text/plain": [
              "['study excellent financial analyst',\n",
              " 'example subsistence farming',\n",
              " 'parent wo let choose future job college follow heart want']"
            ]
          },
          "metadata": {
            "tags": []
          },
          "execution_count": 23
        }
      ]
    },
    {
      "cell_type": "code",
      "metadata": {
        "id": "lLZlkwcz3w3_",
        "colab_type": "code",
        "colab": {}
      },
      "source": [
        ""
      ],
      "execution_count": null,
      "outputs": []
    },
    {
      "cell_type": "code",
      "metadata": {
        "id": "nGeAEG_Jm0Ak",
        "colab_type": "code",
        "colab": {
          "base_uri": "https://localhost:8080/",
          "height": 147
        },
        "outputId": "7387aa5f-5760-4c5b-f030-6143979cfd38"
      },
      "source": [
        "from sklearn.feature_extraction.text import TfidfVectorizer\n",
        "tfidfVec = TfidfVectorizer(lowercase = False, min_df = 3, max_features = 10000) # tfidfVec is the variable I created. It is a declaration of class variable TfidfVectorizer.\n",
        "#Notation !\n",
        "\"\"\"\n",
        "When building the vocabulary ignore terms that have a document frequency strictly lower than the given threshold. \n",
        "This value is also called cut-off in the literature. If float,\n",
        "the parameter represents a proportion of documents, integer absolute counts. \n",
        "\"\"\"\n",
        "tfidfVec.fit(pd.Series(pd.Series(bow).tolist())) #fit(self, raw_documents[, y])\tLearn vocabulary and idf from training set\n",
        "#fit_transform(self, raw_documents[, y])\tLearn vocabulary and idf, return term-document matrix\n",
        "#We created the bow from only X_train !\n",
        "\n",
        "\n",
        "###############Trial\n",
        "\n"
      ],
      "execution_count": null,
      "outputs": [
        {
          "output_type": "execute_result",
          "data": {
            "text/plain": [
              "TfidfVectorizer(analyzer='word', binary=False, decode_error='strict',\n",
              "                dtype=<class 'numpy.float64'>, encoding='utf-8',\n",
              "                input='content', lowercase=False, max_df=1.0,\n",
              "                max_features=10000, min_df=3, ngram_range=(1, 1), norm='l2',\n",
              "                preprocessor=None, smooth_idf=True, stop_words=None,\n",
              "                strip_accents=None, sublinear_tf=False,\n",
              "                token_pattern='(?u)\\\\b\\\\w\\\\w+\\\\b', tokenizer=None, use_idf=True,\n",
              "                vocabulary=None)"
            ]
          },
          "metadata": {
            "tags": []
          },
          "execution_count": 24
        }
      ]
    },
    {
      "cell_type": "code",
      "metadata": {
        "id": "1C17hNh_3c8L",
        "colab_type": "code",
        "colab": {
          "base_uri": "https://localhost:8080/",
          "height": 33
        },
        "outputId": "c71d9254-2e20-498e-899f-132c2cd0bbb1"
      },
      "source": [
        "a=[]\n",
        "for words in X_train['common_words']:\n",
        "  vals=tfidfVec.transform([words])\n",
        "  a.append(vals.mean())\n",
        "\n",
        "#Now we transform both questions in train and test from the bow.\n",
        "\n",
        "a[:2]\n",
        "#q2_tfidf_train=tfidfVec.transform(X_train['common_words'].fillna(\"\").toarray())\n",
        "#q1_tfidf_test=tfidfVec.transform(X_test['common_words'].fillna(\"\").toarray())\n",
        "#q2_tfidf_test=tfidfVec.transform(X_test['common_words'].fillna(\"\").toarray())"
      ],
      "execution_count": null,
      "outputs": [
        {
          "output_type": "execute_result",
          "data": {
            "text/plain": [
              "[0.0001412660602572571, 0.00013737617994825457]"
            ]
          },
          "metadata": {
            "tags": []
          },
          "execution_count": 31
        }
      ]
    },
    {
      "cell_type": "code",
      "metadata": {
        "id": "HKTYatV38tQg",
        "colab_type": "code",
        "colab": {}
      },
      "source": [
        "b=[]\n",
        "for words in X_test['common_words']:\n",
        "  vals=tfidfVec.transform([words])\n",
        "  b.append(vals.mean())"
      ],
      "execution_count": null,
      "outputs": []
    },
    {
      "cell_type": "code",
      "metadata": {
        "id": "bxWe304DCQh2",
        "colab_type": "code",
        "colab": {
          "base_uri": "https://localhost:8080/",
          "height": 846
        },
        "outputId": "5b2724a1-947d-4d3d-973f-096356cea2a8"
      },
      "source": [
        ""
      ],
      "execution_count": null,
      "outputs": [
        {
          "output_type": "execute_result",
          "data": {
            "text/html": [
              "<div>\n",
              "<style scoped>\n",
              "    .dataframe tbody tr th:only-of-type {\n",
              "        vertical-align: middle;\n",
              "    }\n",
              "\n",
              "    .dataframe tbody tr th {\n",
              "        vertical-align: top;\n",
              "    }\n",
              "\n",
              "    .dataframe thead th {\n",
              "        text-align: right;\n",
              "    }\n",
              "</style>\n",
              "<table border=\"1\" class=\"dataframe\">\n",
              "  <thead>\n",
              "    <tr style=\"text-align: right;\">\n",
              "      <th></th>\n",
              "      <th>qid1</th>\n",
              "      <th>qid2</th>\n",
              "      <th>question1</th>\n",
              "      <th>question2</th>\n",
              "      <th>question1_tokenized</th>\n",
              "      <th>question2_tokenized</th>\n",
              "      <th>question1-stemmed</th>\n",
              "      <th>question2-stemmed</th>\n",
              "      <th>wordShare</th>\n",
              "      <th>common_words</th>\n",
              "      <th>shared-tfidf</th>\n",
              "    </tr>\n",
              "  </thead>\n",
              "  <tbody>\n",
              "    <tr>\n",
              "      <th>290384</th>\n",
              "      <td>411670</td>\n",
              "      <td>411671</td>\n",
              "      <td>study excellent financial analyst</td>\n",
              "      <td>financial analyst use sql</td>\n",
              "      <td>[study, excellent, financial, analyst]</td>\n",
              "      <td>[financial, analysts, use, sql]</td>\n",
              "      <td>[study, excellent, financial, analyst]</td>\n",
              "      <td>[financial, analyst, use, sql]</td>\n",
              "      <td>2</td>\n",
              "      <td>analyst financial</td>\n",
              "      <td>0.000141</td>\n",
              "    </tr>\n",
              "    <tr>\n",
              "      <th>184897</th>\n",
              "      <td>282382</td>\n",
              "      <td>282383</td>\n",
              "      <td>example subsistence farming</td>\n",
              "      <td>example simple farming tool</td>\n",
              "      <td>[examples, subsistence, farming]</td>\n",
              "      <td>[examples, simple, farming, tools]</td>\n",
              "      <td>[example, subsistence, farming]</td>\n",
              "      <td>[example, simple, farming, tool]</td>\n",
              "      <td>2</td>\n",
              "      <td>example farming</td>\n",
              "      <td>0.000137</td>\n",
              "    </tr>\n",
              "    <tr>\n",
              "      <th>107350</th>\n",
              "      <td>176640</td>\n",
              "      <td>176641</td>\n",
              "      <td>parent wo let choose future job college follow...</td>\n",
              "      <td>pass go appear jee pls suggest best cs college...</td>\n",
              "      <td>[parents, wo, let, choose, future, job, colleg...</td>\n",
              "      <td>[passed, going, appear, jee, pls, suggest, bes...</td>\n",
              "      <td>[parent, wo, let, choose, future, job, college...</td>\n",
              "      <td>[pass, go, appear, jee, pls, suggest, best, cs...</td>\n",
              "      <td>1</td>\n",
              "      <td>college</td>\n",
              "      <td>0.000100</td>\n",
              "    </tr>\n",
              "    <tr>\n",
              "      <th>279787</th>\n",
              "      <td>399275</td>\n",
              "      <td>250080</td>\n",
              "      <td>internal parts computer purpose</td>\n",
              "      <td>internal parts computer system purpose serve</td>\n",
              "      <td>[internal, parts, computer, purpose]</td>\n",
              "      <td>[internal, parts, computer, system, purpose, s...</td>\n",
              "      <td>[internal, parts, computer, purpose]</td>\n",
              "      <td>[internal, parts, computer, system, purpose, s...</td>\n",
              "      <td>4</td>\n",
              "      <td>purpose internal parts computer</td>\n",
              "      <td>0.000198</td>\n",
              "    </tr>\n",
              "    <tr>\n",
              "      <th>58238</th>\n",
              "      <td>102205</td>\n",
              "      <td>102206</td>\n",
              "      <td>delete amazon account</td>\n",
              "      <td>delete amazon account</td>\n",
              "      <td>[delete, amazon, account]</td>\n",
              "      <td>[delete, amazon, account]</td>\n",
              "      <td>[delete, amazon, account]</td>\n",
              "      <td>[delete, amazon, account]</td>\n",
              "      <td>3</td>\n",
              "      <td>delete account amazon</td>\n",
              "      <td>0.000172</td>\n",
              "    </tr>\n",
              "    <tr>\n",
              "      <th>...</th>\n",
              "      <td>...</td>\n",
              "      <td>...</td>\n",
              "      <td>...</td>\n",
              "      <td>...</td>\n",
              "      <td>...</td>\n",
              "      <td>...</td>\n",
              "      <td>...</td>\n",
              "      <td>...</td>\n",
              "      <td>...</td>\n",
              "      <td>...</td>\n",
              "      <td>...</td>\n",
              "    </tr>\n",
              "    <tr>\n",
              "      <th>259180</th>\n",
              "      <td>374920</td>\n",
              "      <td>374921</td>\n",
              "      <td>power positive thinking</td>\n",
              "      <td>cultivate power positive thinking</td>\n",
              "      <td>[power, positive, thinking]</td>\n",
              "      <td>[cultivate, power, positive, thinking]</td>\n",
              "      <td>[power, positive, thinking]</td>\n",
              "      <td>[cultivate, power, positive, thinking]</td>\n",
              "      <td>3</td>\n",
              "      <td>positive power thinking</td>\n",
              "      <td>0.000173</td>\n",
              "    </tr>\n",
              "    <tr>\n",
              "      <th>365841</th>\n",
              "      <td>495977</td>\n",
              "      <td>17978</td>\n",
              "      <td>things new employee know go first day tennant</td>\n",
              "      <td>things new employee know go first day</td>\n",
              "      <td>[things, new, employees, know, going, first, d...</td>\n",
              "      <td>[things, new, employees, know, going, first, day]</td>\n",
              "      <td>[things, new, employee, know, go, first, day, ...</td>\n",
              "      <td>[things, new, employee, know, go, first, day]</td>\n",
              "      <td>7</td>\n",
              "      <td>day know new employee first go things</td>\n",
              "      <td>0.000264</td>\n",
              "    </tr>\n",
              "    <tr>\n",
              "      <th>131933</th>\n",
              "      <td>9848</td>\n",
              "      <td>127922</td>\n",
              "      <td>current winning presidential election</td>\n",
              "      <td>bias aside point time think win presidential e...</td>\n",
              "      <td>[currently, winning, presidential, election]</td>\n",
              "      <td>[biases, aside, point, time, think, win, presi...</td>\n",
              "      <td>[current, winning, presidential, election]</td>\n",
              "      <td>[bias, aside, point, time, think, win, preside...</td>\n",
              "      <td>2</td>\n",
              "      <td>presidential election</td>\n",
              "      <td>0.000141</td>\n",
              "    </tr>\n",
              "    <tr>\n",
              "      <th>146868</th>\n",
              "      <td>231910</td>\n",
              "      <td>231911</td>\n",
              "      <td>movies leading actor become mafia</td>\n",
              "      <td>fix internet connection available problem mobi...</td>\n",
              "      <td>[movies, leading, actor, becomes, mafia]</td>\n",
              "      <td>[fix, internet, connection, available, problem...</td>\n",
              "      <td>[movies, leading, actor, become, mafia]</td>\n",
              "      <td>[fix, internet, connection, available, problem...</td>\n",
              "      <td>0</td>\n",
              "      <td></td>\n",
              "      <td>0.000000</td>\n",
              "    </tr>\n",
              "    <tr>\n",
              "      <th>121959</th>\n",
              "      <td>197509</td>\n",
              "      <td>197510</td>\n",
              "      <td>rank cut rohtak medical college state quota</td>\n",
              "      <td>register du state quota neet</td>\n",
              "      <td>[rank, cut, rohtak, medical, college, state, q...</td>\n",
              "      <td>[register, du, state, quota, neet]</td>\n",
              "      <td>[rank, cut, rohtak, medical, college, state, q...</td>\n",
              "      <td>[register, du, state, quota, neet]</td>\n",
              "      <td>2</td>\n",
              "      <td>quota state</td>\n",
              "      <td>0.000140</td>\n",
              "    </tr>\n",
              "  </tbody>\n",
              "</table>\n",
              "<p>353751 rows × 11 columns</p>\n",
              "</div>"
            ],
            "text/plain": [
              "          qid1    qid2  ...                           common_words shared-tfidf\n",
              "290384  411670  411671  ...                      analyst financial     0.000141\n",
              "184897  282382  282383  ...                        example farming     0.000137\n",
              "107350  176640  176641  ...                                college     0.000100\n",
              "279787  399275  250080  ...        purpose internal parts computer     0.000198\n",
              "58238   102205  102206  ...                  delete account amazon     0.000172\n",
              "...        ...     ...  ...                                    ...          ...\n",
              "259180  374920  374921  ...                positive power thinking     0.000173\n",
              "365841  495977   17978  ...  day know new employee first go things     0.000264\n",
              "131933    9848  127922  ...                  presidential election     0.000141\n",
              "146868  231910  231911  ...                                            0.000000\n",
              "121959  197509  197510  ...                            quota state     0.000140\n",
              "\n",
              "[353751 rows x 11 columns]"
            ]
          },
          "metadata": {
            "tags": []
          },
          "execution_count": 35
        }
      ]
    },
    {
      "cell_type": "code",
      "metadata": {
        "id": "mR_0kIRH3cOn",
        "colab_type": "code",
        "colab": {}
      },
      "source": [
        ""
      ],
      "execution_count": null,
      "outputs": []
    },
    {
      "cell_type": "code",
      "metadata": {
        "id": "neDPhN8_6MLs",
        "colab_type": "code",
        "colab": {
          "base_uri": "https://localhost:8080/",
          "height": 50
        },
        "outputId": "b195906f-26dc-4b39-b30e-006a79cdcde5"
      },
      "source": [
        "#Not need this anymore\n",
        "\n",
        "\"\"\"\n",
        "from scipy.sparse import coo_matrix, hstack\n",
        "\n",
        "#form the last version of Train and Test data.\n",
        "#Train\n",
        "X_TRAIN_TFIDF = hstack(( q1_tfidf_train,q2_tfidf_train, X_train[ ['Q1-FREQ','Q2-FREQ','wordShare','WMD']]))\n",
        "print(X_TRAIN_TFIDF.shape)\n",
        "#Test\n",
        "\n",
        "#TFIDF_log_X=hstack(q1_tfidf,\\q2_tfidf)\n",
        "X_TEST_TFIDF = hstack(( q1_tfidf_test,q2_tfidf_test, X_test[ ['Q1-FREQ','Q2-FREQ','wordShare','WMD']]))\n",
        "print(X_TEST_TFIDF.shape)\n",
        "\n",
        "\"\"\"\n",
        "\n"
      ],
      "execution_count": null,
      "outputs": [
        {
          "output_type": "stream",
          "text": [
            "(353751, 20004)\n",
            "(50536, 20004)\n"
          ],
          "name": "stdout"
        }
      ]
    },
    {
      "cell_type": "code",
      "metadata": {
        "id": "Ipuytjig7Cui",
        "colab_type": "code",
        "colab": {
          "base_uri": "https://localhost:8080/",
          "height": 53
        },
        "outputId": "f6b5b2c9-e041-4540-8c6f-2d19aac45787"
      },
      "source": [
        "#Notice ! Where was that shape come from  ?\n",
        "\"\"\"\n",
        "(353751, 53492)\n",
        "\n",
        "353751 corresponds the training data size -> instance \n",
        "53492 =  26744*2 (TFIDF matrix Both for question 1 and 2 -> horizontal concatenation ) + 4\n",
        "4 comes from extracted features, represents  Q1-FREQ,Q2-FREQ,wordShare,WMD respectively.\n",
        "Same idea also in test.\n",
        "\"\"\""
      ],
      "execution_count": null,
      "outputs": [
        {
          "output_type": "execute_result",
          "data": {
            "text/plain": [
              "'\\n(353751, 53492)\\n\\n353751 corresponds the training data size -> instance \\n53492 =  26744*2 (TFIDF matrix Both for question 1 and 2 -> horizontal concatenation ) + 4\\n4 comes from extracted features, represents  Q1-FREQ,Q2-FREQ,wordShare,WMD respectively.\\nSame idea also in test.\\n'"
            ]
          },
          "metadata": {
            "tags": []
          },
          "execution_count": 26
        }
      ]
    },
    {
      "cell_type": "markdown",
      "metadata": {
        "id": "gl6MTguYIenG",
        "colab_type": "text"
      },
      "source": [
        ""
      ]
    },
    {
      "cell_type": "code",
      "metadata": {
        "id": "U7rzZecmEfTs",
        "colab_type": "code",
        "colab": {}
      },
      "source": [
        ""
      ],
      "execution_count": null,
      "outputs": []
    },
    {
      "cell_type": "code",
      "metadata": {
        "id": "LdB_50ZtE0vT",
        "colab_type": "code",
        "colab": {}
      },
      "source": [
        "#Save it for using later.\n",
        "X_test.to_csv('X_TEST-QUORA.csv')\n",
        "!cp X_TRAIN-QUORA.csv drive/My\\ Drive/"
      ],
      "execution_count": null,
      "outputs": []
    },
    {
      "cell_type": "code",
      "metadata": {
        "id": "2xNFc2PoE5HM",
        "colab_type": "code",
        "colab": {
          "base_uri": "https://localhost:8080/",
          "height": 70
        },
        "outputId": "2973278f-32d5-4caa-b20f-0cfd07e05f1f"
      },
      "source": [
        "y_train.to_csv('Y_TRAIN-QUORA.csv')\n",
        "!cp X_TRAIN-QUORA.csv drive/My\\ Drive/"
      ],
      "execution_count": null,
      "outputs": [
        {
          "output_type": "stream",
          "text": [
            "/usr/local/lib/python3.6/dist-packages/ipykernel_launcher.py:1: FutureWarning: The signature of `Series.to_csv` was aligned to that of `DataFrame.to_csv`, and argument 'header' will change its default value from False to True: please pass an explicit value to suppress this warning.\n",
            "  \"\"\"Entry point for launching an IPython kernel.\n"
          ],
          "name": "stderr"
        }
      ]
    },
    {
      "cell_type": "code",
      "metadata": {
        "id": "GxARm9UHE-qN",
        "colab_type": "code",
        "colab": {
          "base_uri": "https://localhost:8080/",
          "height": 70
        },
        "outputId": "a25b2bec-a1e2-47ae-e52a-da12463c38c0"
      },
      "source": [
        "y_test.to_csv('Y_TEST-QUORA.csv')\n",
        "!cp X_TRAIN-QUORA.csv drive/My\\ Drive/"
      ],
      "execution_count": null,
      "outputs": [
        {
          "output_type": "stream",
          "text": [
            "/usr/local/lib/python3.6/dist-packages/ipykernel_launcher.py:1: FutureWarning: The signature of `Series.to_csv` was aligned to that of `DataFrame.to_csv`, and argument 'header' will change its default value from False to True: please pass an explicit value to suppress this warning.\n",
            "  \"\"\"Entry point for launching an IPython kernel.\n"
          ],
          "name": "stderr"
        }
      ]
    },
    {
      "cell_type": "code",
      "metadata": {
        "id": "NewNm52qIKF6",
        "colab_type": "code",
        "colab": {
          "base_uri": "https://localhost:8080/",
          "height": 33
        },
        "outputId": "17ba62a4-f626-4cc2-bca4-d324d770f03c"
      },
      "source": [
        "y_train.shape"
      ],
      "execution_count": null,
      "outputs": [
        {
          "output_type": "execute_result",
          "data": {
            "text/plain": [
              "(353751,)"
            ]
          },
          "metadata": {
            "tags": []
          },
          "execution_count": 53
        }
      ]
    },
    {
      "cell_type": "markdown",
      "metadata": {
        "id": "wC2SF_ja5-fC",
        "colab_type": "text"
      },
      "source": [
        "# **Machine Learning Models**"
      ]
    },
    {
      "cell_type": "code",
      "metadata": {
        "id": "ZcWcjLulMvp3",
        "colab_type": "code",
        "colab": {
          "base_uri": "https://localhost:8080/",
          "height": 115
        },
        "outputId": "e8ad691f-38c6-453a-fb81-9fa70555da98"
      },
      "source": [
        "#Let's divide part of training data only for seeking optimal hyperparamters of models ! For time efficency.\n",
        "idx=np.arange(0,20000)\n",
        "X_SUB_TRAIN=X_TRAIN_TFIDF.tocsr()[idx] # Sparses matrices cannot subscriptable\n",
        "y_sub_train=y_train[0:20000]\n",
        "\n",
        "\n",
        "print(X_TRAIN_TFIDF.shape)\n",
        "print(X_TEST_TFIDF.shape)\n",
        "print(y_train.shape)\n",
        "print(y_test.shape)\n",
        "print(X_SUB_TRAIN.shape)\n",
        "print(y_sub_train.shape)\n"
      ],
      "execution_count": null,
      "outputs": [
        {
          "output_type": "stream",
          "text": [
            "(353751, 20004)\n",
            "(50536, 20004)\n",
            "(353751,)\n",
            "(50536,)\n",
            "(20000, 20004)\n",
            "(20000,)\n"
          ],
          "name": "stdout"
        }
      ]
    },
    {
      "cell_type": "markdown",
      "metadata": {
        "id": "FHqa9Zy89wFR",
        "colab_type": "text"
      },
      "source": [
        "##  Logistic Regression"
      ]
    },
    {
      "cell_type": "markdown",
      "metadata": {
        "id": "trQwFEryNLGe",
        "colab_type": "text"
      },
      "source": [
        "### Hyper-parameter tuning with Random Search and cross validation"
      ]
    },
    {
      "cell_type": "code",
      "metadata": {
        "id": "Taf6cNzILRF1",
        "colab_type": "code",
        "colab": {
          "base_uri": "https://localhost:8080/",
          "height": 68
        },
        "outputId": "8e80ae6e-3561-445a-f9b0-4ad5f3b1f1ba"
      },
      "source": [
        "C = np.logspace(0, 4, 10)\n",
        "C"
      ],
      "execution_count": null,
      "outputs": [
        {
          "output_type": "execute_result",
          "data": {
            "text/plain": [
              "array([1.00000000e+00, 2.78255940e+00, 7.74263683e+00, 2.15443469e+01,\n",
              "       5.99484250e+01, 1.66810054e+02, 4.64158883e+02, 1.29154967e+03,\n",
              "       3.59381366e+03, 1.00000000e+04])"
            ]
          },
          "metadata": {
            "tags": []
          },
          "execution_count": 134
        }
      ]
    },
    {
      "cell_type": "code",
      "metadata": {
        "id": "PUr9fv94NV8r",
        "colab_type": "code",
        "colab": {
          "base_uri": "https://localhost:8080/",
          "height": 224
        },
        "outputId": "4e4349c9-16ff-4a6e-d023-808e3ba8a81e"
      },
      "source": [
        "import numpy as np\n",
        "from sklearn.linear_model import LogisticRegression\n",
        "\n",
        "from sklearn.model_selection import GridSearchCV,RandomizedSearchCV\n",
        "\n",
        "model_logistic = LogisticRegression()\n",
        "\n",
        "# Create regularization penalty space\n",
        "pen = ['l2']\n",
        "\n",
        "# Create regularization hyperparameter space\n",
        "C = np.logspace(0, 4, 3)\n",
        "\n",
        "# Create hyperparameter options\n",
        "hyperparameters = dict(C=C, penalty=pen)\n",
        "\n",
        "\n",
        "# Create grid search using 5-fold cross validation\n",
        "clf = RandomizedSearchCV(model_logistic, hyperparameters, cv=5, verbose=1)\n",
        "\n",
        "# Fit grid search\n",
        "best_model = clf.fit(X_SUB_TRAIN, y_sub_train)\n",
        "\n",
        "\n",
        "# View best hyperparameters\n",
        "print('Best Penalty:', best_model.best_estimator_.get_params()['penalty'])\n",
        "print('Best C:', best_model.best_estimator_.get_params()['C'])\n",
        "\n",
        "\n",
        "\n"
      ],
      "execution_count": null,
      "outputs": [
        {
          "output_type": "stream",
          "text": [
            "/usr/local/lib/python3.6/dist-packages/sklearn/model_selection/_search.py:266: UserWarning: The total space of parameters 3 is smaller than n_iter=10. Running 3 iterations. For exhaustive searches, use GridSearchCV.\n",
            "  % (grid_size, self.n_iter, grid_size), UserWarning)\n",
            "[Parallel(n_jobs=1)]: Using backend SequentialBackend with 1 concurrent workers.\n",
            "/usr/local/lib/python3.6/dist-packages/sklearn/linear_model/logistic.py:432: FutureWarning: Default solver will be changed to 'lbfgs' in 0.22. Specify a solver to silence this warning.\n",
            "  FutureWarning)\n"
          ],
          "name": "stderr"
        },
        {
          "output_type": "stream",
          "text": [
            "Fitting 5 folds for each of 3 candidates, totalling 15 fits\n"
          ],
          "name": "stdout"
        },
        {
          "output_type": "stream",
          "text": [
            "/usr/local/lib/python3.6/dist-packages/sklearn/svm/base.py:929: ConvergenceWarning: Liblinear failed to converge, increase the number of iterations.\n",
            "  \"the number of iterations.\", ConvergenceWarning)\n",
            "[Parallel(n_jobs=1)]: Done  15 out of  15 | elapsed:   37.4s finished\n"
          ],
          "name": "stderr"
        },
        {
          "output_type": "stream",
          "text": [
            "Best Penalty: l2\n",
            "Best C: 1.0\n"
          ],
          "name": "stdout"
        }
      ]
    },
    {
      "cell_type": "code",
      "metadata": {
        "id": "m3QUCYr0QAQq",
        "colab_type": "code",
        "colab": {
          "base_uri": "https://localhost:8080/",
          "height": 258
        },
        "outputId": "7049b82a-4b58-4add-b72f-fbe15119c6e6"
      },
      "source": [
        "#USE BEST MODEL TO TRAIN ALL DATA.\n",
        "# Create regularization penalty space\n",
        "PEN = 'l2'\n",
        "\n",
        "# Create regularization hyperparameter space\n",
        "c = 1.0\n",
        "model_logistic = LogisticRegression( C=1 , penalty='l2',max_iter=300)\n",
        "\n",
        "model_logistic.fit(X_TRAIN_TFIDF, y_train)\n",
        "\n",
        "# Predict target vector\n",
        "prediction=model_logistic.predict(X_TEST_TFIDF)\n",
        "\n",
        "a=classification_report(y_test, prediction)\n",
        "b=confusion_matrix(y_test, prediction)\n",
        "\n",
        "print(a)\n",
        "print(b)\n"
      ],
      "execution_count": null,
      "outputs": [
        {
          "output_type": "stream",
          "text": [
            "/usr/local/lib/python3.6/dist-packages/sklearn/linear_model/logistic.py:432: FutureWarning: Default solver will be changed to 'lbfgs' in 0.22. Specify a solver to silence this warning.\n",
            "  FutureWarning)\n"
          ],
          "name": "stderr"
        },
        {
          "output_type": "stream",
          "text": [
            "              precision    recall  f1-score   support\n",
            "\n",
            "           0       0.76      0.90      0.82     31784\n",
            "           1       0.75      0.52      0.61     18752\n",
            "\n",
            "    accuracy                           0.76     50536\n",
            "   macro avg       0.75      0.71      0.72     50536\n",
            "weighted avg       0.76      0.76      0.75     50536\n",
            "\n",
            "[[28539  3245]\n",
            " [ 9027  9725]]\n"
          ],
          "name": "stdout"
        }
      ]
    },
    {
      "cell_type": "code",
      "metadata": {
        "id": "voZM7QD3PT4p",
        "colab_type": "code",
        "colab": {
          "base_uri": "https://localhost:8080/",
          "height": 468
        },
        "outputId": "5b2aae08-97b7-46cf-935e-e40996ec42f5"
      },
      "source": [
        "print(__doc__)\n",
        "\n",
        "import numpy as np\n",
        "import matplotlib.pyplot as plt\n",
        "from sklearn.svm import SVC\n",
        "from sklearn.datasets import load_digits\n",
        "from sklearn.model_selection import learning_curve\n",
        "from sklearn.model_selection import ShuffleSplit\n",
        "\n",
        "\n",
        "def plot_learning_curve(estimator, title, X, y, ylim=None, cv=None,\n",
        "                        n_jobs=None, train_sizes=np.linspace(.1, 1.0, 5)):\n",
        "\n",
        "    plt.figure()\n",
        "    plt.title(title)\n",
        "    if ylim is not None:\n",
        "        plt.ylim(*ylim)\n",
        "    plt.xlabel(\"Training examples\")\n",
        "    plt.ylabel(\"Score\")\n",
        "    train_sizes, train_scores, test_scores = learning_curve(\n",
        "        estimator, X, y, n_jobs=n_jobs, train_sizes=train_sizes)\n",
        "    train_scores_mean = np.mean(train_scores, axis=1)\n",
        "    train_scores_std = np.std(train_scores, axis=1)\n",
        "    test_scores_mean = np.mean(test_scores, axis=1)\n",
        "    test_scores_std = np.std(test_scores, axis=1)\n",
        "    plt.grid()\n",
        "\n",
        "    plt.fill_between(train_sizes, train_scores_mean - train_scores_std,\n",
        "                     train_scores_mean + train_scores_std, alpha=0.1,\n",
        "                     color=\"r\")\n",
        "    plt.fill_between(train_sizes, test_scores_mean - test_scores_std,\n",
        "                     test_scores_mean + test_scores_std, alpha=0.1, color=\"g\")\n",
        "    plt.plot(train_sizes, train_scores_mean, 'o-', color=\"r\",\n",
        "             label=\"Training score\")\n",
        "    plt.plot(train_sizes, test_scores_mean, 'o-', color=\"g\",\n",
        "             label=\"Cross-validation score\")\n",
        "\n",
        "    plt.legend(loc=\"best\")\n",
        "    return plt\n",
        "\n",
        "title = \"Learning Curves (Logistic Regression)\"\n",
        "# Cross validation with 100 iterations to get smoother mean test and train\n",
        "# score curves, each time with 20% data randomly selected as a validation set.\n",
        "#cv = ShuffleSplit(n_splits=100, test_size=0.2, random_state=0)\n",
        "\n",
        "plot_learning_curve(model_logistic, title, X_TRAIN_TFIDF, y_train, ylim=(0.7, 1.01), cv=cv, n_jobs=-1)\n",
        "\n",
        "\n",
        "plt.show()"
      ],
      "execution_count": null,
      "outputs": [
        {
          "output_type": "stream",
          "text": [
            "\n",
            "When building the vocabulary ignore terms that have a document frequency strictly lower than the given threshold. \n",
            "This value is also called cut-off in the literature. If float,\n",
            "the parameter represents a proportion of documents, integer absolute counts. \n",
            "\n"
          ],
          "name": "stdout"
        },
        {
          "output_type": "stream",
          "text": [
            "/usr/local/lib/python3.6/dist-packages/sklearn/model_selection/_split.py:1978: FutureWarning: The default value of cv will change from 3 to 5 in version 0.22. Specify it explicitly to silence this warning.\n",
            "  warnings.warn(CV_WARNING, FutureWarning)\n",
            "/usr/local/lib/python3.6/dist-packages/joblib/externals/loky/process_executor.py:706: UserWarning: A worker stopped while some jobs were given to the executor. This can be caused by a too short worker timeout or by a memory leak.\n",
            "  \"timeout or by a memory leak.\", UserWarning\n"
          ],
          "name": "stderr"
        },
        {
          "output_type": "display_data",
          "data": {
            "image/png": "[encoded data removed]",
            "text/plain": [
              "<Figure size 432x288 with 1 Axes>"
            ]
          },
          "metadata": {
            "tags": []
          }
        }
      ]
    },
    {
      "cell_type": "code",
      "metadata": {
        "id": "uTosECdZNdap",
        "colab_type": "code",
        "colab": {}
      },
      "source": [
        ""
      ],
      "execution_count": null,
      "outputs": []
    },
    {
      "cell_type": "markdown",
      "metadata": {
        "id": "Cg-OM5EyFN_l",
        "colab_type": "text"
      },
      "source": [
        "### Tuned Logistic Model"
      ]
    },
    {
      "cell_type": "markdown",
      "metadata": {
        "id": "UMgFimquWHi3",
        "colab_type": "text"
      },
      "source": [
        "## Random Forest"
      ]
    },
    {
      "cell_type": "markdown",
      "metadata": {
        "id": "vCTxHJcRwdKB",
        "colab_type": "text"
      },
      "source": [
        "### Hyper-parameter tuning with Grid Search, cross valid"
      ]
    },
    {
      "cell_type": "code",
      "metadata": {
        "id": "epOz5nDxU4od",
        "colab_type": "code",
        "colab": {
          "base_uri": "https://localhost:8080/",
          "height": 340
        },
        "outputId": "edbed427-75c2-4672-eb4d-f67df7272bbe"
      },
      "source": [
        "from sklearn.ensemble import RandomForestClassifier\n",
        "rf = RandomForestClassifier(random_state = 42, verbose =1)\n",
        "from pprint import pprint\n",
        "# Look at parameters used by our current forest\n",
        "print('Parameters currently in use:\\n')\n",
        "pprint(rf.get_params())\n",
        "\n"
      ],
      "execution_count": null,
      "outputs": [
        {
          "output_type": "stream",
          "text": [
            "Parameters currently in use:\n",
            "\n",
            "{'bootstrap': True,\n",
            " 'class_weight': None,\n",
            " 'criterion': 'gini',\n",
            " 'max_depth': None,\n",
            " 'max_features': 'auto',\n",
            " 'max_leaf_nodes': None,\n",
            " 'min_impurity_decrease': 0.0,\n",
            " 'min_impurity_split': None,\n",
            " 'min_samples_leaf': 1,\n",
            " 'min_samples_split': 2,\n",
            " 'min_weight_fraction_leaf': 0.0,\n",
            " 'n_estimators': 'warn',\n",
            " 'n_jobs': None,\n",
            " 'oob_score': False,\n",
            " 'random_state': 42,\n",
            " 'verbose': 1,\n",
            " 'warm_start': False}\n"
          ],
          "name": "stdout"
        }
      ]
    },
    {
      "cell_type": "code",
      "metadata": {
        "id": "0EY9akxzWsrQ",
        "colab_type": "code",
        "colab": {
          "base_uri": "https://localhost:8080/",
          "height": 156
        },
        "outputId": "1960e8b5-3103-4899-8fa6-e3e4df39fe02"
      },
      "source": [
        "\n",
        "import pprint\n",
        "from sklearn.model_selection import RandomizedSearchCV\n",
        "# Number of trees in random forest\n",
        "n_estimators = n_estimators = [10,20,30,40,50,60,80,100]\n",
        "\n",
        "# Number of features to consider at every split\n",
        "# Maximum number of levels in tree\n",
        "max_depth = [4,6,8,10]\n",
        "\n",
        "\n",
        "random_grid = {'n_estimators': n_estimators,\n",
        "               'max_depth': max_depth}\n",
        "rf=RandomForestClassifier()\n",
        "\n",
        "rf_random = RandomizedSearchCV(estimator = rf, param_distributions = random_grid, n_iter = 100, cv = 3, verbose=2, random_state=42, n_jobs = -1)\n",
        "# Fit the random search model\n",
        "rf_random.fit(X_SUB_TRAIN, y_sub_train)\n",
        "\n",
        "rf_random.best_params_\n",
        "\n",
        "#best params -> depth None est-> 400\n"
      ],
      "execution_count": null,
      "outputs": [
        {
          "output_type": "stream",
          "text": [
            "Fitting 3 folds for each of 32 candidates, totalling 96 fits\n"
          ],
          "name": "stdout"
        },
        {
          "output_type": "stream",
          "text": [
            "/usr/local/lib/python3.6/dist-packages/sklearn/model_selection/_search.py:266: UserWarning: The total space of parameters 32 is smaller than n_iter=100. Running 32 iterations. For exhaustive searches, use GridSearchCV.\n",
            "  % (grid_size, self.n_iter, grid_size), UserWarning)\n",
            "[Parallel(n_jobs=-1)]: Using backend LokyBackend with 4 concurrent workers.\n",
            "[Parallel(n_jobs=-1)]: Done  33 tasks      | elapsed:    6.8s\n",
            "[Parallel(n_jobs=-1)]: Done  96 out of  96 | elapsed:   24.3s finished\n"
          ],
          "name": "stderr"
        },
        {
          "output_type": "execute_result",
          "data": {
            "text/plain": [
              "{'max_depth': 10, 'n_estimators': 30}"
            ]
          },
          "metadata": {
            "tags": []
          },
          "execution_count": 150
        }
      ]
    },
    {
      "cell_type": "markdown",
      "metadata": {
        "id": "GRiBXEFpddD4",
        "colab_type": "text"
      },
      "source": [
        "### Tuned Random Forest Model"
      ]
    },
    {
      "cell_type": "code",
      "metadata": {
        "id": "rzKAQHNpXtu2",
        "colab_type": "code",
        "colab": {
          "base_uri": "https://localhost:8080/",
          "height": 553
        },
        "outputId": "ea354aee-464c-44a4-f336-add98f43a349"
      },
      "source": [
        "#look at the improvement\n",
        "rf_model = RandomForestClassifier(n_estimators = 30, random_state = 42,max_depth= None)\n",
        "rf_model.fit(X_TRAIN_TFIDF, y_train)\n",
        "\n",
        "prediction=rf_model.predict(X_TEST_TFIDF)\n",
        "a=classification_report(y_test, prediction)\n",
        "b=confusion_matrix(y_test, prediction)\n",
        "print(a,b)\n",
        "\n",
        "\n",
        "title = \"Learning Curves (Random Forest)\"\n",
        "# Cross validation with 100 iterations to get smoother mean test and train\n",
        "# score curves, each time with 20% data randomly selected as a validation set.\n",
        "#cv = ShuffleSplit(n_splits=100, test_size=0.2, random_state=0)\n",
        "\n",
        "plot_learning_curve(rf_model, title, X_TRAIN_TFIDF, y_train, ylim=(0.7, 1.01), cv=cv, n_jobs=-1)\n",
        "\n",
        "\n",
        "plt.show()\n"
      ],
      "execution_count": null,
      "outputs": [
        {
          "output_type": "stream",
          "text": [
            "              precision    recall  f1-score   support\n",
            "\n",
            "           0       0.76      0.95      0.85     31784\n",
            "           1       0.85      0.50      0.63     18752\n",
            "\n",
            "    accuracy                           0.78     50536\n",
            "   macro avg       0.81      0.72      0.74     50536\n",
            "weighted avg       0.80      0.78      0.77     50536\n",
            " [[30140  1644]\n",
            " [ 9375  9377]]\n"
          ],
          "name": "stdout"
        },
        {
          "output_type": "stream",
          "text": [
            "/usr/local/lib/python3.6/dist-packages/sklearn/model_selection/_split.py:1978: FutureWarning: The default value of cv will change from 3 to 5 in version 0.22. Specify it explicitly to silence this warning.\n",
            "  warnings.warn(CV_WARNING, FutureWarning)\n",
            "/usr/local/lib/python3.6/dist-packages/joblib/externals/loky/process_executor.py:706: UserWarning: A worker stopped while some jobs were given to the executor. This can be caused by a too short worker timeout or by a memory leak.\n",
            "  \"timeout or by a memory leak.\", UserWarning\n"
          ],
          "name": "stderr"
        },
        {
          "output_type": "display_data",
          "data": {
            "image/png": "[encoded data removed]",
            "text/plain": [
              "<Figure size 432x288 with 1 Axes>"
            ]
          },
          "metadata": {
            "tags": []
          }
        }
      ]
    },
    {
      "cell_type": "code",
      "metadata": {
        "id": "OWCJzT_vg_6W",
        "colab_type": "code",
        "colab": {
          "base_uri": "https://localhost:8080/",
          "height": 553
        },
        "outputId": "ad377e59-7238-456d-9c67-ec6053f461b4"
      },
      "source": [
        "#look at the improvement\n",
        "rf_model = RandomForestClassifier(n_estimators = 30, random_state = 42,max_depth= 50)\n",
        "rf_model.fit(X_TRAIN_TFIDF, y_train)\n",
        "\n",
        "prediction=rf_model.predict(X_TEST_TFIDF)\n",
        "a=classification_report(y_test, prediction)\n",
        "b=confusion_matrix(y_test, prediction)\n",
        "print(a,b)\n",
        "\n",
        "\n",
        "title = \"Learning Curves (Random Forest)\"\n",
        "# Cross validation with 100 iterations to get smoother mean test and train\n",
        "# score curves, each time with 20% data randomly selected as a validation set.\n",
        "#cv = ShuffleSplit(n_splits=100, test_size=0.2, random_state=0)\n",
        "\n",
        "plot_learning_curve(rf_model, title, X_TRAIN_TFIDF, y_train, ylim=(0.7, 1.01), cv=cv, n_jobs=-1)\n",
        "\n",
        "\n",
        "plt.show()\n"
      ],
      "execution_count": null,
      "outputs": [
        {
          "output_type": "stream",
          "text": [
            "              precision    recall  f1-score   support\n",
            "\n",
            "           0       0.71      0.98      0.82     31784\n",
            "           1       0.89      0.31      0.46     18752\n",
            "\n",
            "    accuracy                           0.73     50536\n",
            "   macro avg       0.80      0.64      0.64     50536\n",
            "weighted avg       0.77      0.73      0.69     50536\n",
            " [[31061   723]\n",
            " [12906  5846]]\n"
          ],
          "name": "stdout"
        },
        {
          "output_type": "stream",
          "text": [
            "/usr/local/lib/python3.6/dist-packages/sklearn/model_selection/_split.py:1978: FutureWarning: The default value of cv will change from 3 to 5 in version 0.22. Specify it explicitly to silence this warning.\n",
            "  warnings.warn(CV_WARNING, FutureWarning)\n",
            "/usr/local/lib/python3.6/dist-packages/joblib/externals/loky/process_executor.py:706: UserWarning: A worker stopped while some jobs were given to the executor. This can be caused by a too short worker timeout or by a memory leak.\n",
            "  \"timeout or by a memory leak.\", UserWarning\n"
          ],
          "name": "stderr"
        },
        {
          "output_type": "display_data",
          "data": {
            "image/png": "[encoded data removed]",
            "text/plain": [
              "<Figure size 432x288 with 1 Axes>"
            ]
          },
          "metadata": {
            "tags": []
          }
        }
      ]
    },
    {
      "cell_type": "code",
      "metadata": {
        "id": "UHnetI-zdAXO",
        "colab_type": "code",
        "colab": {}
      },
      "source": [
        ""
      ],
      "execution_count": null,
      "outputs": []
    },
    {
      "cell_type": "markdown",
      "metadata": {
        "id": "E5ams5ZiwqTC",
        "colab_type": "text"
      },
      "source": [
        "# Support Vector Machine\n",
        "\n",
        "```\n",
        "# This is formatted as code\n",
        "```\n",
        "\n"
      ]
    },
    {
      "cell_type": "markdown",
      "metadata": {
        "id": "4u9eUMHbwuB9",
        "colab_type": "text"
      },
      "source": [
        "### Grid Search with cross validation on svm "
      ]
    },
    {
      "cell_type": "code",
      "metadata": {
        "id": "yeFr2xl_w5AL",
        "colab_type": "code",
        "colab": {
          "base_uri": "https://localhost:8080/",
          "height": 223
        },
        "outputId": "3d78eb1d-2062-4c6b-b781-c6f961f91a2c"
      },
      "source": [
        "from sklearn.model_selection import GridSearchCV \n",
        "\n",
        "from sklearn.svm import SVC \n",
        "from sklearn.model_selection import GridSearchCV \n",
        "  \n",
        "# defining parameter range \n",
        "param_grid = {'C': [0.1, 1, 10],  \n",
        "              'gamma': [1, 0.1, 0.01, 0.001, 0.0001], \n",
        "              'kernel': ['rbf']}  \n",
        "  \n",
        "grid = RandomizedSearchCV(SVC(), param_grid, refit = True,cv = 3, verbose = 3) \n",
        "  \n",
        "# fitting the model for grid search \n",
        "grid.fit(X_SUB_TRAIN, y_sub_train) \n",
        "\n",
        "# print best parameter after tuning \n",
        "pprint(grid.best_params_) \n",
        "  \n",
        "# print how our model looks after hyper-parameter tuning \n",
        "pprint(grid.best_estimator_) "
      ],
      "execution_count": null,
      "outputs": [
        {
          "output_type": "error",
          "ename": "NameError",
          "evalue": "ignored",
          "traceback": [
            "\u001b[0;31m---------------------------------------------------------------------------\u001b[0m",
            "\u001b[0;31mNameError\u001b[0m                                 Traceback (most recent call last)",
            "\u001b[0;32m<ipython-input-1-a986bdae9c4b>\u001b[0m in \u001b[0;36m<module>\u001b[0;34m()\u001b[0m\n\u001b[1;32m      9\u001b[0m               'kernel': ['rbf']}  \n\u001b[1;32m     10\u001b[0m \u001b[0;34m\u001b[0m\u001b[0m\n\u001b[0;32m---> 11\u001b[0;31m \u001b[0mgrid\u001b[0m \u001b[0;34m=\u001b[0m \u001b[0mRandomizedSearchCV\u001b[0m\u001b[0;34m(\u001b[0m\u001b[0mSVC\u001b[0m\u001b[0;34m(\u001b[0m\u001b[0;34m)\u001b[0m\u001b[0;34m,\u001b[0m \u001b[0mparam_grid\u001b[0m\u001b[0;34m,\u001b[0m \u001b[0mrefit\u001b[0m \u001b[0;34m=\u001b[0m \u001b[0;32mTrue\u001b[0m\u001b[0;34m,\u001b[0m\u001b[0mcv\u001b[0m \u001b[0;34m=\u001b[0m \u001b[0;36m3\u001b[0m\u001b[0;34m,\u001b[0m \u001b[0mverbose\u001b[0m \u001b[0;34m=\u001b[0m \u001b[0;36m3\u001b[0m\u001b[0;34m)\u001b[0m\u001b[0;34m\u001b[0m\u001b[0;34m\u001b[0m\u001b[0m\n\u001b[0m\u001b[1;32m     12\u001b[0m \u001b[0;34m\u001b[0m\u001b[0m\n\u001b[1;32m     13\u001b[0m \u001b[0;31m# fitting the model for grid search\u001b[0m\u001b[0;34m\u001b[0m\u001b[0;34m\u001b[0m\u001b[0;34m\u001b[0m\u001b[0m\n",
            "\u001b[0;31mNameError\u001b[0m: name 'RandomizedSearchCV' is not defined"
          ]
        }
      ]
    },
    {
      "cell_type": "code",
      "metadata": {
        "id": "DieVIgv7xS9G",
        "colab_type": "code",
        "colab": {
          "base_uri": "https://localhost:8080/",
          "height": 98
        },
        "outputId": "6a9717e0-f83c-472c-c96c-01a0de9a3f04"
      },
      "source": [
        "# print best parameter after tuning \n",
        "pprint(grid.best_params_) \n",
        "  \n",
        "# print how our model looks after hyper-parameter tuning \n",
        "pprint(grid.best_estimator_) "
      ],
      "execution_count": null,
      "outputs": [
        {
          "output_type": "stream",
          "text": [
            "{'C': 10, 'gamma': 0.01, 'kernel': 'rbf'}\n",
            "SVC(C=10, cache_size=200, class_weight=None, coef0=0.0,\n",
            "    decision_function_shape='ovr', degree=3, gamma=0.01, kernel='rbf',\n",
            "    max_iter=-1, probability=False, random_state=None, shrinking=True,\n",
            "    tol=0.001, verbose=False)\n"
          ],
          "name": "stdout"
        }
      ]
    },
    {
      "cell_type": "code",
      "metadata": {
        "id": "ApSuwdK7GFDj",
        "colab_type": "code",
        "colab": {}
      },
      "source": [
        "# defining parameter range \n",
        "from sklearn.model_selection import GridSearchCV \n",
        "\n",
        "from sklearn.svm import SVC \n",
        "from sklearn.model_selection import GridSearchCV \n",
        "param_grid = {'C': [0.1, 1, 10],  \n",
        "              'gamma': [1, 0.1, 0.01, 0.001, 0.0001], \n",
        "              'kernel': ['rbf']}  \n",
        "svm=SVC(C=10,gamma=0.01,kernel='rbf')\n",
        "\n",
        "svm.fit(X_TRAIN_TFIDF, y_train) \n",
        "\n",
        "\n",
        "prediction=svm.predict(X_TEST_TFIDF)\n",
        "a=classification_report(y_test, prediction)\n",
        "b=confusion_matrix(y_test, prediction)\n",
        "print(a,b)"
      ],
      "execution_count": null,
      "outputs": []
    },
    {
      "cell_type": "code",
      "metadata": {
        "id": "FnJiWOUHsw7G",
        "colab_type": "code",
        "colab": {}
      },
      "source": [
        "\n",
        "\n",
        "\n",
        "title = \"Learning Curves (Support Vector Machine)\"\n",
        "# Cross validation with 100 iterations to get smoother mean test and train\n",
        "# score curves, each time with 20% data randomly selected as a validation set.\n",
        "#cv = ShuffleSplit(n_splits=100, test_size=0.2, random_state=0)\n",
        "\n",
        "plot_learning_curve(svm, title, X_TRAIN_TFIDF, y_train, ylim=(0.7, 1.01), cv=cv, n_jobs=-1)\n",
        "\n",
        "\n",
        "plt.show()\n"
      ],
      "execution_count": null,
      "outputs": []
    },
    {
      "cell_type": "markdown",
      "metadata": {
        "id": "FPpq1F7Eyy9f",
        "colab_type": "text"
      },
      "source": [
        "### Tuned SVM Model\n"
      ]
    },
    {
      "cell_type": "markdown",
      "metadata": {
        "id": "g8VanFp1za5p",
        "colab_type": "text"
      },
      "source": [
        "# XGBOOST"
      ]
    },
    {
      "cell_type": "markdown",
      "metadata": {
        "id": "MaNE8XUO0ULS",
        "colab_type": "text"
      },
      "source": [
        "## Hyperparamerter tuning with grid search and cross validation"
      ]
    },
    {
      "cell_type": "code",
      "metadata": {
        "id": "2wt5-ir2zGVY",
        "colab_type": "code",
        "colab": {}
      },
      "source": [
        "import xgboost as xgb"
      ],
      "execution_count": null,
      "outputs": []
    },
    {
      "cell_type": "code",
      "metadata": {
        "id": "Fk88LTXRzfmC",
        "colab_type": "code",
        "colab": {}
      },
      "source": [
        "\n",
        "def plot_learning_curve(estimator, title, X, y, ylim=None, cv=None,\n",
        "                        n_jobs=None, train_sizes=np.linspace(.1, 1.0, 5)):\n",
        "\n",
        "    plt.figure()\n",
        "    plt.title(title)\n",
        "    if ylim is not None:\n",
        "        plt.ylim(*ylim)\n",
        "    plt.xlabel(\"Training examples\")\n",
        "    plt.ylabel(\"Score\")\n",
        "    train_sizes, train_scores, test_scores = learning_curve(\n",
        "        estimator, X, y, n_jobs=n_jobs, train_sizes=train_sizes)\n",
        "    train_scores_mean = np.mean(train_scores, axis=1)\n",
        "    train_scores_std = np.std(train_scores, axis=1)\n",
        "    test_scores_mean = np.mean(test_scores, axis=1)\n",
        "    test_scores_std = np.std(test_scores, axis=1)\n",
        "    plt.grid()\n",
        "\n",
        "    plt.fill_between(train_sizes, train_scores_mean - train_scores_std,\n",
        "                     train_scores_mean + train_scores_std, alpha=0.1,\n",
        "                     color=\"r\")\n",
        "    plt.fill_between(train_sizes, test_scores_mean - test_scores_std,\n",
        "                     test_scores_mean + test_scores_std, alpha=0.1, color=\"g\")\n",
        "    plt.plot(train_sizes, train_scores_mean, 'o-', color=\"r\",\n",
        "             label=\"Training score\")\n",
        "    plt.plot(train_sizes, test_scores_mean, 'o-', color=\"g\",\n",
        "             label=\"Cross-validation score\")\n",
        "\n",
        "    plt.legend(loc=\"best\")\n",
        "    return plt\n",
        "\n",
        "\n",
        "\n",
        "params = {\"objective\":\"reg:linear\",\n",
        "          'colsample_bytree': 0.3,\n",
        "          'learning_rate': 0.1,\n",
        "          'max_depth': 5,\n",
        "          'alpha': 10}\n",
        "\n",
        "\n",
        "\n"
      ],
      "execution_count": null,
      "outputs": []
    },
    {
      "cell_type": "markdown",
      "metadata": {
        "id": "a2aPFa-x0Xgk",
        "colab_type": "text"
      },
      "source": [
        "## Grid Search with cross validation\n"
      ]
    },
    {
      "cell_type": "code",
      "metadata": {
        "id": "MHBlGCWS0GLC",
        "colab_type": "code",
        "colab": {}
      },
      "source": [
        ""
      ],
      "execution_count": null,
      "outputs": []
    },
    {
      "cell_type": "code",
      "metadata": {
        "id": "u8QBlRDO0G1m",
        "colab_type": "code",
        "colab": {
          "base_uri": "https://localhost:8080/",
          "height": 151
        },
        "outputId": "0e1eb4d0-b075-4792-c7ae-c742dc99dce8"
      },
      "source": [
        "\n",
        "# Number of trees in random forest\n",
        "n_estimators = [100]\n",
        "\n",
        "# Number of features to consider at every split\n",
        "# Maximum number of levels in tree\n",
        "max_depth = [8,10]\n",
        "from sklearn.model_selection import RandomizedSearchCV\n",
        "\n",
        "\n",
        "# Create the random grid\n",
        "grid_param = {'n_estimators': n_estimators,\n",
        "               'max_depth': max_depth,\n",
        "               'learning_rate': [0.001,0.01]\n",
        "               }\n",
        "\n",
        "\n",
        "# Use the random grid to search for best hyperparameters\n",
        "# First create the base model to tune\n",
        "xgb_model = xgb.XGBClassifier()\n",
        "\n",
        "# Random search of parameters, using 3 fold cross validation, \n",
        "# search across 100 different combinations, and use all available cores\n",
        "xg_random = RandomizedSearchCV(xgb_model, grid_param, refit = True,cv = 3, verbose=3, n_jobs = -1)\n",
        "# Fit the random search model\n",
        "xg_random.fit(X_SUB_TRAIN, y_sub_train)\n",
        "\n",
        "xg_random.best_params_\n"
      ],
      "execution_count": null,
      "outputs": [
        {
          "output_type": "stream",
          "text": [
            "Fitting 3 folds for each of 4 candidates, totalling 12 fits\n"
          ],
          "name": "stdout"
        },
        {
          "output_type": "stream",
          "text": [
            "/usr/local/lib/python3.6/dist-packages/sklearn/model_selection/_search.py:266: UserWarning: The total space of parameters 4 is smaller than n_iter=10. Running 4 iterations. For exhaustive searches, use GridSearchCV.\n",
            "  % (grid_size, self.n_iter, grid_size), UserWarning)\n",
            "[Parallel(n_jobs=-1)]: Using backend LokyBackend with 4 concurrent workers.\n",
            "[Parallel(n_jobs=-1)]: Done  10 out of  12 | elapsed:  1.4min remaining:   16.2s\n",
            "[Parallel(n_jobs=-1)]: Done  12 out of  12 | elapsed:  1.4min finished\n"
          ],
          "name": "stderr"
        },
        {
          "output_type": "execute_result",
          "data": {
            "text/plain": [
              "{'learning_rate': 0.01, 'max_depth': 8, 'n_estimators': 100}"
            ]
          },
          "metadata": {
            "tags": []
          },
          "execution_count": 41
        }
      ]
    },
    {
      "cell_type": "code",
      "metadata": {
        "id": "CpSHxeuh1SDO",
        "colab_type": "code",
        "colab": {
          "base_uri": "https://localhost:8080/",
          "height": 180
        },
        "outputId": "640c30ad-de6c-4a2c-a731-bb4ed22415ad"
      },
      "source": [
        "\n",
        "xgb_tuned_model=xgb.XGBClassifier(learning_rate= 0.01, max_depth = 30, n_estimators= 100)\n",
        "\n",
        "xgb_tuned_model.fit(X_TRAIN_TFIDF, y_train) \n",
        "\n",
        "prediction=xgb_tuned_model.predict(X_TEST_TFIDF)\n",
        "a=classification_report(y_test, prediction)\n",
        "b=confusion_matrix(y_test, prediction)\n",
        "print(a,b)\n"
      ],
      "execution_count": null,
      "outputs": [
        {
          "output_type": "stream",
          "text": [
            "              precision    recall  f1-score   support\n",
            "\n",
            "           0       0.71      0.94      0.81     31784\n",
            "           1       0.77      0.37      0.50     18752\n",
            "\n",
            "    accuracy                           0.72     50536\n",
            "   macro avg       0.74      0.65      0.65     50536\n",
            "weighted avg       0.74      0.72      0.69     50536\n",
            " [[29724  2060]\n",
            " [11863  6889]]\n"
          ],
          "name": "stdout"
        }
      ]
    },
    {
      "cell_type": "code",
      "metadata": {
        "id": "vX1j2wsp9s9A",
        "colab_type": "code",
        "colab": {
          "base_uri": "https://localhost:8080/",
          "height": 396
        },
        "outputId": "9fc7a203-fee6-42f0-a2f6-5db751120691"
      },
      "source": [
        "\n",
        "import matplotlib.pyplot as plt\n",
        "%matplotlib inline\n",
        "from sklearn.datasets import load_digits\n",
        "from sklearn.model_selection import learning_curve\n",
        "from sklearn.model_selection import ShuffleSplit\n",
        "title = \"Learning Curves (XGBoost)\"\n",
        "\n",
        "\n",
        "# Cross validation with 100 iterations to get smoother mean test and train\n",
        "# score curves, each time with 20% data randomly selected as a validation set.\n",
        "#cv = ShuffleSplit(n_splits=100, test_size=0.2, random_state=0)\n",
        "\n",
        "plot_learning_curve(xgb_tuned_model, title, X_TRAIN_TFIDF, y_train, ylim=(0.7, 1.01), cv=3, n_jobs=-1)"
      ],
      "execution_count": null,
      "outputs": [
        {
          "output_type": "stream",
          "text": [
            "/usr/local/lib/python3.6/dist-packages/sklearn/model_selection/_split.py:1978: FutureWarning: The default value of cv will change from 3 to 5 in version 0.22. Specify it explicitly to silence this warning.\n",
            "  warnings.warn(CV_WARNING, FutureWarning)\n",
            "/usr/local/lib/python3.6/dist-packages/joblib/externals/loky/process_executor.py:706: UserWarning: A worker stopped while some jobs were given to the executor. This can be caused by a too short worker timeout or by a memory leak.\n",
            "  \"timeout or by a memory leak.\", UserWarning\n"
          ],
          "name": "stderr"
        },
        {
          "output_type": "execute_result",
          "data": {
            "text/plain": [
              "<module 'matplotlib.pyplot' from '/usr/local/lib/python3.6/dist-packages/matplotlib/pyplot.py'>"
            ]
          },
          "metadata": {
            "tags": []
          },
          "execution_count": 52
        },
        {
          "output_type": "display_data",
          "data": {
            "image/png": "[encoded data removed]",
            "text/plain": [
              "<Figure size 432x288 with 1 Axes>"
            ]
          },
          "metadata": {
            "tags": []
          }
        }
      ]
    },
    {
      "cell_type": "markdown",
      "metadata": {
        "id": "mN4iJlCDeUlm",
        "colab_type": "text"
      },
      "source": [
        "## Base XGBoost Model"
      ]
    },
    {
      "cell_type": "markdown",
      "metadata": {
        "id": "dQcm46Bi5u2Z",
        "colab_type": "text"
      },
      "source": [
        "# Deep Learning "
      ]
    },
    {
      "cell_type": "markdown",
      "metadata": {
        "id": "7iKdZPlW5yED",
        "colab_type": "text"
      },
      "source": [
        "## CNN with Word2vec embedding"
      ]
    },
    {
      "cell_type": "code",
      "metadata": {
        "id": "2SR-2w1M9b6F",
        "colab_type": "code",
        "colab": {}
      },
      "source": [
        ""
      ],
      "execution_count": null,
      "outputs": []
    },
    {
      "cell_type": "code",
      "metadata": {
        "id": "uW4CYp1B5w4n",
        "colab_type": "code",
        "colab": {
          "base_uri": "https://localhost:8080/",
          "height": 147
        },
        "outputId": "ef5ff492-c611-473d-98e2-ceea653fac6e"
      },
      "source": [
        "print(\"Word Embedding Starts... for question1\")\n",
        "# train your word embeddings during the training of your neural network. \n",
        "from keras.preprocessing.text import Tokenizer\n",
        "tokenizer_q1 = Tokenizer(num_words=100000)\n",
        "tokenizer_q1.fit_on_texts(X_train[\"question1\"])\n",
        "X_train_dl_q1 = tokenizer_q1.texts_to_sequences(X_train[\"question1\"])\n",
        "X_test_dl_q1 = tokenizer_q1.texts_to_sequences(X_test[\"question1\"])\n",
        "vocab_size_q1 = len(tokenizer_q1.word_index) + 1 \n",
        "wordIndex_q1=tokenizer_q1.word_index # it is my index\n",
        "#implement padding\n",
        "\n",
        "from keras.preprocessing.sequence import pad_sequences\n",
        "max_len = 100\n",
        "X_train_q1 = pad_sequences(X_train_dl_q1, padding='post', maxlen=max_len)\n",
        "X_test_q1 = pad_sequences(X_test_dl_q1, padding='post', maxlen=max_len)\n",
        "\n",
        "\n",
        "print(X_test['question1'].iloc[0]) # ?\n",
        "print(X_test_q1[0])\n"
      ],
      "execution_count": null,
      "outputs": [
        {
          "output_type": "stream",
          "text": [
            "Word Embedding Starts... for question1\n",
            "play pokémon go korea\n",
            "[140 979  21 578   0   0   0   0   0   0   0   0   0   0   0   0   0   0\n",
            "   0   0   0   0   0   0   0   0   0   0   0   0   0   0   0   0   0   0\n",
            "   0   0   0   0   0   0   0   0   0   0   0   0   0   0   0   0   0   0\n",
            "   0   0   0   0   0   0   0   0   0   0   0   0   0   0   0   0   0   0\n",
            "   0   0   0   0   0   0   0   0   0   0   0   0   0   0   0   0   0   0\n",
            "   0   0   0   0   0   0   0   0   0   0]\n"
          ],
          "name": "stdout"
        }
      ]
    },
    {
      "cell_type": "code",
      "metadata": {
        "id": "Zf3npapQ-3Wd",
        "colab_type": "code",
        "colab": {
          "base_uri": "https://localhost:8080/",
          "height": 33
        },
        "outputId": "7da11689-d235-4649-ee3f-69f620a5bfa3"
      },
      "source": [
        "print(\"Word Embedding Starts... for question2\")\n",
        "# train your word embeddings during the training of your neural network. \n",
        "from keras.preprocessing.text import Tokenizer\n",
        "tokenizer_q2 = Tokenizer(num_words=100000)\n",
        "tokenizer_q2.fit_on_texts(X_train[\"question2\"])\n",
        "X_train_dl_q2 = tokenizer_q2.texts_to_sequences(X_train[\"question2\"])\n",
        "X_test_dl_q2 = tokenizer_q2.texts_to_sequences(X_test[\"question2\"])\n",
        "vocab_size_q2 = len(tokenizer_q2.word_index) + 1 \n",
        "wordIndex_q2=tokenizer_q2.word_index # it is my index\n",
        "#implement padding\n",
        "\n",
        "from keras.preprocessing.sequence import pad_sequences\n",
        "max_len = 100\n",
        "X_train_q2 = pad_sequences(X_train_dl_q2, padding='post', maxlen=max_len)\n",
        "X_test_q2 = pad_sequences(X_test_dl_q2, padding='post', maxlen=max_len)\n",
        "\n",
        "\n"
      ],
      "execution_count": null,
      "outputs": [
        {
          "output_type": "stream",
          "text": [
            "Word Embedding Starts... for question2\n"
          ],
          "name": "stdout"
        }
      ]
    },
    {
      "cell_type": "code",
      "metadata": {
        "id": "s11q7wyY_7JV",
        "colab_type": "code",
        "colab": {}
      },
      "source": [
        "  def createEmbeddingMatrix(wordIndex):\n",
        "    embedding_dim=300\n",
        "    vocabulary_size=min(len(wordIndex)+1,60000)\n",
        "    embedding_matrix = np.zeros((vocabulary_size, embedding_dim))\n",
        "    for word, i in wordIndex.items():\n",
        "        if i>=50000:\n",
        "          continue\n",
        "        try:\n",
        "            embedding_vector = w2v_model[word]\n",
        "            embedding_matrix[i] = embedding_vector\n",
        "        except KeyError:\n",
        "          embedding_matrix[i]=np.random.normal(0,np.sqrt(0.25),embedding_dim)\n",
        "\n",
        "    \n",
        "    return embedding_matrix\n",
        "\n",
        "  "
      ],
      "execution_count": null,
      "outputs": []
    },
    {
      "cell_type": "code",
      "metadata": {
        "id": "h3eoTVVEOzVC",
        "colab_type": "code",
        "colab": {
          "base_uri": "https://localhost:8080/",
          "height": 33
        },
        "outputId": "539882ae-9472-4bcf-8d2b-39317fe3b92c"
      },
      "source": [
        "np.array(y_train).shape"
      ],
      "execution_count": null,
      "outputs": [
        {
          "output_type": "execute_result",
          "data": {
            "text/plain": [
              "(353751,)"
            ]
          },
          "metadata": {
            "tags": []
          },
          "execution_count": 16
        }
      ]
    },
    {
      "cell_type": "code",
      "metadata": {
        "id": "FDduSE6kCFNs",
        "colab_type": "code",
        "colab": {}
      },
      "source": [
        "# Keras\n",
        "from keras.preprocessing.text import Tokenizer\n",
        "from keras.preprocessing.sequence import pad_sequences\n",
        "from keras.models import Sequential\n",
        "from keras.layers import Dense, Flatten, LSTM, Conv1D,Conv2D,MaxPooling1D, Dropout, Activation\n",
        "from keras.layers.embeddings import Embedding\n",
        "from sklearn.metrics import classification_report\n",
        "from keras.layers import Input, TimeDistributed, Dense, Lambda, concatenate, Dropout, BatchNormalization ,GlobalMaxPooling1D\n",
        "from keras import backend as K\n",
        "from keras.models import Model\n",
        "import csv, datetime, time, json\n",
        "from keras.callbacks import Callback, ModelCheckpoint\n",
        "from keras import optimizers\n",
        "\n",
        "!pip install -q keras\n",
        "import keras\n",
        "\n",
        "\n",
        "def recall_m(true_Y, pred_Y):\n",
        "        TP = K.sum(K.round(K.clip(true_Y * pred_Y, 0, 1)))\n",
        "        possible_pos = K.sum(K.round(K.clip(true_Y, 0, 1)))\n",
        "        rec = TP / (possible_pos + K.epsilon())\n",
        "        return rec\n",
        "\n",
        "def precision_m(true_Y, pred_Y):\n",
        "        true_positives = K.sum(K.round(K.clip(true_Y * pred_Y, 0, 1)))\n",
        "        predicted_positives = K.sum(K.round(K.clip(pred_Y, 0, 1)))\n",
        "        precision = true_positives / (predicted_positives + K.epsilon())\n",
        "        return precision\n",
        "\n",
        "def f1_m(true_Y, pred_Y):\n",
        "    pres = precision_m(true_Y, pred_Y)\n",
        "    rec = recall_m(true_Y, pred_Y)\n",
        "    return 2*((pres*rec)/(pres+rec+K.epsilon()))\n",
        "\n"
      ],
      "execution_count": null,
      "outputs": []
    },
    {
      "cell_type": "code",
      "metadata": {
        "id": "yRfreXszCNgB",
        "colab_type": "code",
        "colab": {
          "base_uri": "https://localhost:8080/",
          "height": 1000
        },
        "outputId": "a3c909ee-25d6-40fc-a5b6-e45b3b5ccbf1"
      },
      "source": [
        "model_cnn_file = 'model_cnn_quora-20.h5'\n",
        "from keras.utils import plot_model \n",
        "import pickle\n",
        "input1 = Input(shape=(max_len,))\n",
        "input2 = Input(shape=(max_len,))\n",
        "EMBEDDING_DIM=300\n",
        "x1 = Embedding(vocab_size_q1 , \n",
        "                 EMBEDDING_DIM, \n",
        "                 weights=[createEmbeddingMatrix(wordIndex_q1)], \n",
        "                 input_length=max_len, \n",
        "                 trainable=False)(input1)\n",
        "#x1 = TimeDistributed(Dense(EMBEDDING_DIM, activation='relu'))(x1)\n",
        "#x1 = Lambda(lambda x: K.max(x, axis=1), output_shape=(EMBEDDING_DIM,1 ))(x1)\n",
        "x1=Conv1D(filters=128, kernel_size=3, activation='relu')(x1)\n",
        "x1 = MaxPooling1D(pool_size=2)(x1)\n",
        "x1 = Flatten()(x1)\n",
        "\n",
        "\n",
        "x2 = Embedding(vocab_size_q2, \n",
        "                 EMBEDDING_DIM, \n",
        "                 weights=[createEmbeddingMatrix(wordIndex_q2)], \n",
        "                 input_length=max_len, \n",
        "                 trainable=False)(input2)\n",
        "#x2 = TimeDistributed(Dense(EMBEDDING_DIM, activation='relu'))(x2)\n",
        "#x2 = Lambda(lambda x: K.max(x, axis=1), output_shape=(EMBEDDING_DIM,1 ))(x2) \n",
        "x2=Conv1D(filters=128, kernel_size=3, activation='relu')(x2)\n",
        "x2 = MaxPooling1D(pool_size=2)(x2)\n",
        "x2 = Flatten()(x2)\n",
        "inputs=concatenate([x1,x2])\n",
        "\n",
        "print(inputs.shape)\n",
        "#inputs=Conv1D(filters=128, kernel_size=3, activation='relu')(inputs)  # ERROR\n",
        "\n",
        "#print('a')\n",
        "#inputs=MaxPooling1D(pool_size=3)(inputs)\n",
        "#inputs = Dropout(0.2)(inputs)\n",
        "#inputs = BatchNormalization()(inputs)\n",
        "inputs = Dense(128, activation='relu')(inputs)\n",
        "\n",
        "final = Dense(1, activation='sigmoid')(inputs)\n",
        "\n",
        "model = Model(inputs=[input1,input2], outputs=final)\n",
        "print('a')\n",
        "model.compile(loss='binary_crossentropy', optimizer=optimizers.Adam(lr=0.0001)\n",
        ", metrics=['acc',f1_m,precision_m, recall_m])\n",
        "\n",
        "\n",
        "# Train the model, checkpointing weights with best validation accuracy\n",
        "print(\"Starting training at\", datetime.datetime.now())\n",
        "t0 = time.time()\n",
        "callbacks = [ModelCheckpoint(model_cnn_file, monitor='val_acc', save_best_only=True)] \n",
        "history = model.fit([X_train_q1, X_train_q2],\n",
        "                    y_train,\n",
        "                    epochs=40,\n",
        "                    validation_split=0.1,\n",
        "                    verbose=2,\n",
        "                    batch_size=32,\n",
        "                    callbacks=callbacks)\n",
        "t1 = time.time()\n",
        "print(\"Training ended at\", datetime.datetime.now())\n",
        "print(\"Minutes elapsed: %f\" % ((t1 - t0) / 60.))\n",
        "\n",
        "# Print best validation accuracy and epoch\n",
        "max_val_acc, idx = max((val, idx) for (idx, val) in enumerate(history.history['val_acc']))\n",
        "print('Maximum validation accuracy = {0:.4f} (epoch {1:d})'.format(max_val_acc, idx+1))\n",
        "\n",
        "# Evaluate the model with best validation accuracy on the test partition\n",
        "#model.load_weights(model_cnn_file)\n",
        "loss, accuracy, f1_score, precision, recall = model.evaluate([ np.array(X_test_q1), np.array(X_test_q2)], y_test, verbose=0)\n",
        "print('Test loss = {0:.4f}, test accuracy = {1:.4f}'.format(loss, accuracy))\n",
        "\n",
        "\n",
        "probs = model.predict([ np.array(X_test_q1), np.array(X_test_q2)], verbose=1)\n",
        "predicted_classes=[0 if i < 0.5 else 1 for i in probs]\n",
        "  #predicted_classes = bilstm_attention_model.predict_classes(X_test_initial, verbose=1)\n",
        "  #print(predicted_classes)\n",
        "\n",
        "print(classification_report(y_test, predicted_classes))\n",
        "  #filename = 'finalized_model_cnn.sav'\n",
        "  #pickle.dump(model, open(filename, 'wb'))\n",
        "\n",
        "\n",
        "pickle.dump(model, open(model_lstm_file, 'wb'))\n",
        "\n",
        "plot_model(model, to_file='model_cnn_quora.png')\n",
        "\n",
        "\n",
        "\n",
        "\n",
        "\n",
        "\n",
        "\n",
        "\n",
        "\n"
      ],
      "execution_count": null,
      "outputs": [
        {
          "output_type": "stream",
          "text": [
            "(?, ?)\n",
            "a\n",
            "Starting training at 2019-12-26 01:12:01.597600\n",
            "Train on 318375 samples, validate on 35376 samples\n",
            "Epoch 1/40\n",
            " - 78s - loss: 0.5368 - acc: 0.7278 - f1_m: 0.5431 - precision_m: 0.6752 - recall_m: 0.4804 - val_loss: 0.5048 - val_acc: 0.7485 - val_f1_m: 0.6214 - val_precision_m: 0.6947 - val_recall_m: 0.5803\n",
            "Epoch 2/40\n",
            " - 69s - loss: 0.4674 - acc: 0.7739 - f1_m: 0.6507 - precision_m: 0.7388 - recall_m: 0.6026 - val_loss: 0.4807 - val_acc: 0.7640 - val_f1_m: 0.6433 - val_precision_m: 0.7226 - val_recall_m: 0.5992\n",
            "Epoch 3/40\n",
            " - 68s - loss: 0.4209 - acc: 0.8013 - f1_m: 0.7011 - precision_m: 0.7674 - recall_m: 0.6658 - val_loss: 0.4766 - val_acc: 0.7706 - val_f1_m: 0.6697 - val_precision_m: 0.7103 - val_recall_m: 0.6535\n",
            "Epoch 4/40\n",
            " - 68s - loss: 0.3826 - acc: 0.8233 - f1_m: 0.7386 - precision_m: 0.7920 - recall_m: 0.7106 - val_loss: 0.4786 - val_acc: 0.7746 - val_f1_m: 0.6695 - val_precision_m: 0.7235 - val_recall_m: 0.6414\n",
            "Epoch 5/40\n",
            " - 68s - loss: 0.3493 - acc: 0.8418 - f1_m: 0.7684 - precision_m: 0.8113 - recall_m: 0.7473 - val_loss: 0.4916 - val_acc: 0.7759 - val_f1_m: 0.6863 - val_precision_m: 0.7044 - val_recall_m: 0.6885\n",
            "Epoch 6/40\n",
            " - 69s - loss: 0.3201 - acc: 0.8568 - f1_m: 0.7916 - precision_m: 0.8267 - recall_m: 0.7755 - val_loss: 0.5103 - val_acc: 0.7716 - val_f1_m: 0.6898 - val_precision_m: 0.6900 - val_recall_m: 0.7085\n",
            "Epoch 7/40\n",
            " - 68s - loss: 0.2941 - acc: 0.8707 - f1_m: 0.8132 - precision_m: 0.8431 - recall_m: 0.8003 - val_loss: 0.5414 - val_acc: 0.7688 - val_f1_m: 0.6918 - val_precision_m: 0.6795 - val_recall_m: 0.7237\n",
            "Epoch 8/40\n",
            " - 68s - loss: 0.2710 - acc: 0.8828 - f1_m: 0.8313 - precision_m: 0.8561 - recall_m: 0.8219 - val_loss: 0.5657 - val_acc: 0.7741 - val_f1_m: 0.6908 - val_precision_m: 0.6959 - val_recall_m: 0.7056\n",
            "Epoch 9/40\n",
            " - 68s - loss: 0.2505 - acc: 0.8924 - f1_m: 0.8454 - precision_m: 0.8673 - recall_m: 0.8379 - val_loss: 0.5883 - val_acc: 0.7672 - val_f1_m: 0.6862 - val_precision_m: 0.6805 - val_recall_m: 0.7102\n",
            "Epoch 10/40\n",
            " - 68s - loss: 0.2316 - acc: 0.9016 - f1_m: 0.8592 - precision_m: 0.8783 - recall_m: 0.8529 - val_loss: 0.6147 - val_acc: 0.7740 - val_f1_m: 0.6887 - val_precision_m: 0.6977 - val_recall_m: 0.6989\n",
            "Epoch 11/40\n",
            " - 68s - loss: 0.2156 - acc: 0.9095 - f1_m: 0.8708 - precision_m: 0.8864 - recall_m: 0.8667 - val_loss: 0.6482 - val_acc: 0.7713 - val_f1_m: 0.6874 - val_precision_m: 0.6916 - val_recall_m: 0.7021\n",
            "Epoch 12/40\n",
            " - 67s - loss: 0.2003 - acc: 0.9165 - f1_m: 0.8810 - precision_m: 0.8947 - recall_m: 0.8780 - val_loss: 0.6999 - val_acc: 0.7661 - val_f1_m: 0.6916 - val_precision_m: 0.6717 - val_recall_m: 0.7321\n",
            "Epoch 13/40\n",
            " - 67s - loss: 0.1867 - acc: 0.9228 - f1_m: 0.8898 - precision_m: 0.9020 - recall_m: 0.8877 - val_loss: 0.7006 - val_acc: 0.7721 - val_f1_m: 0.6863 - val_precision_m: 0.6961 - val_recall_m: 0.6952\n",
            "Epoch 14/40\n",
            " - 68s - loss: 0.1746 - acc: 0.9285 - f1_m: 0.8982 - precision_m: 0.9093 - recall_m: 0.8967 - val_loss: 0.7711 - val_acc: 0.7639 - val_f1_m: 0.6900 - val_precision_m: 0.6694 - val_recall_m: 0.7312\n",
            "Epoch 15/40\n",
            " - 67s - loss: 0.1633 - acc: 0.9331 - f1_m: 0.9048 - precision_m: 0.9140 - recall_m: 0.9044 - val_loss: 0.7923 - val_acc: 0.7773 - val_f1_m: 0.6802 - val_precision_m: 0.7197 - val_recall_m: 0.6637\n",
            "Epoch 16/40\n",
            " - 68s - loss: 0.1540 - acc: 0.9378 - f1_m: 0.9116 - precision_m: 0.9203 - recall_m: 0.9112 - val_loss: 0.8302 - val_acc: 0.7775 - val_f1_m: 0.6767 - val_precision_m: 0.7248 - val_recall_m: 0.6524\n",
            "Epoch 17/40\n",
            " - 67s - loss: 0.1449 - acc: 0.9418 - f1_m: 0.9172 - precision_m: 0.9243 - recall_m: 0.9177 - val_loss: 0.8922 - val_acc: 0.7737 - val_f1_m: 0.6820 - val_precision_m: 0.7057 - val_recall_m: 0.6773\n",
            "Epoch 18/40\n",
            " - 67s - loss: 0.1365 - acc: 0.9459 - f1_m: 0.9231 - precision_m: 0.9293 - recall_m: 0.9240 - val_loss: 0.9077 - val_acc: 0.7685 - val_f1_m: 0.6901 - val_precision_m: 0.6809 - val_recall_m: 0.7186\n",
            "Epoch 19/40\n",
            " - 68s - loss: 0.1293 - acc: 0.9488 - f1_m: 0.9272 - precision_m: 0.9331 - recall_m: 0.9280 - val_loss: 0.9095 - val_acc: 0.7772 - val_f1_m: 0.6839 - val_precision_m: 0.7129 - val_recall_m: 0.6744\n",
            "Epoch 20/40\n",
            " - 68s - loss: 0.1230 - acc: 0.9516 - f1_m: 0.9313 - precision_m: 0.9365 - recall_m: 0.9326 - val_loss: 0.9695 - val_acc: 0.7739 - val_f1_m: 0.6837 - val_precision_m: 0.7048 - val_recall_m: 0.6822\n",
            "Epoch 21/40\n",
            " - 67s - loss: 0.1165 - acc: 0.9542 - f1_m: 0.9351 - precision_m: 0.9400 - recall_m: 0.9363 - val_loss: 1.0224 - val_acc: 0.7662 - val_f1_m: 0.6867 - val_precision_m: 0.6785 - val_recall_m: 0.7140\n",
            "Epoch 22/40\n",
            " - 67s - loss: 0.1114 - acc: 0.9566 - f1_m: 0.9384 - precision_m: 0.9429 - recall_m: 0.9397 - val_loss: 1.0177 - val_acc: 0.7758 - val_f1_m: 0.6808 - val_precision_m: 0.7145 - val_recall_m: 0.6683\n",
            "Epoch 23/40\n",
            " - 67s - loss: 0.1063 - acc: 0.9588 - f1_m: 0.9413 - precision_m: 0.9456 - recall_m: 0.9426 - val_loss: 1.0485 - val_acc: 0.7717 - val_f1_m: 0.6870 - val_precision_m: 0.6939 - val_recall_m: 0.6986\n",
            "Epoch 24/40\n",
            " - 67s - loss: 0.1019 - acc: 0.9607 - f1_m: 0.9441 - precision_m: 0.9476 - recall_m: 0.9457 - val_loss: 1.1148 - val_acc: 0.7607 - val_f1_m: 0.6840 - val_precision_m: 0.6674 - val_recall_m: 0.7211\n",
            "Epoch 25/40\n",
            " - 68s - loss: 0.0973 - acc: 0.9630 - f1_m: 0.9477 - precision_m: 0.9509 - recall_m: 0.9492 - val_loss: 1.1181 - val_acc: 0.7786 - val_f1_m: 0.6744 - val_precision_m: 0.7324 - val_recall_m: 0.6420\n",
            "Epoch 26/40\n",
            " - 67s - loss: 0.0941 - acc: 0.9639 - f1_m: 0.9486 - precision_m: 0.9521 - recall_m: 0.9501 - val_loss: 1.1790 - val_acc: 0.7602 - val_f1_m: 0.6855 - val_precision_m: 0.6629 - val_recall_m: 0.7286\n",
            "Epoch 27/40\n",
            " - 67s - loss: 0.0904 - acc: 0.9657 - f1_m: 0.9511 - precision_m: 0.9539 - recall_m: 0.9528 - val_loss: 1.1407 - val_acc: 0.7733 - val_f1_m: 0.6878 - val_precision_m: 0.6975 - val_recall_m: 0.6970\n",
            "Epoch 28/40\n",
            " - 68s - loss: 0.0867 - acc: 0.9674 - f1_m: 0.9539 - precision_m: 0.9568 - recall_m: 0.9554 - val_loss: 1.1996 - val_acc: 0.7666 - val_f1_m: 0.6901 - val_precision_m: 0.6740 - val_recall_m: 0.7257\n",
            "Epoch 29/40\n",
            " - 68s - loss: 0.0840 - acc: 0.9683 - f1_m: 0.9551 - precision_m: 0.9573 - recall_m: 0.9571 - val_loss: 1.2005 - val_acc: 0.7760 - val_f1_m: 0.6859 - val_precision_m: 0.7082 - val_recall_m: 0.6830\n",
            "Epoch 30/40\n",
            " - 67s - loss: 0.0812 - acc: 0.9693 - f1_m: 0.9564 - precision_m: 0.9583 - recall_m: 0.9587 - val_loss: 1.2175 - val_acc: 0.7730 - val_f1_m: 0.6860 - val_precision_m: 0.6974 - val_recall_m: 0.6928\n",
            "Epoch 31/40\n",
            " - 67s - loss: 0.0787 - acc: 0.9707 - f1_m: 0.9586 - precision_m: 0.9612 - recall_m: 0.9600 - val_loss: 1.2540 - val_acc: 0.7705 - val_f1_m: 0.6865 - val_precision_m: 0.6899 - val_recall_m: 0.7010\n",
            "Epoch 32/40\n",
            " - 68s - loss: 0.0766 - acc: 0.9711 - f1_m: 0.9590 - precision_m: 0.9619 - recall_m: 0.9601 - val_loss: 1.2751 - val_acc: 0.7676 - val_f1_m: 0.6896 - val_precision_m: 0.6766 - val_recall_m: 0.7222\n",
            "Epoch 33/40\n",
            " - 67s - loss: 0.0735 - acc: 0.9730 - f1_m: 0.9616 - precision_m: 0.9636 - recall_m: 0.9631 - val_loss: 1.2882 - val_acc: 0.7741 - val_f1_m: 0.6844 - val_precision_m: 0.7023 - val_recall_m: 0.6851\n",
            "Epoch 34/40\n",
            " - 68s - loss: 0.0712 - acc: 0.9737 - f1_m: 0.9626 - precision_m: 0.9645 - recall_m: 0.9641 - val_loss: 1.3088 - val_acc: 0.7703 - val_f1_m: 0.6791 - val_precision_m: 0.6974 - val_recall_m: 0.6804\n",
            "Epoch 35/40\n",
            " - 67s - loss: 0.0702 - acc: 0.9740 - f1_m: 0.9632 - precision_m: 0.9651 - recall_m: 0.9648 - val_loss: 1.3189 - val_acc: 0.7728 - val_f1_m: 0.6808 - val_precision_m: 0.7019 - val_recall_m: 0.6787\n",
            "Epoch 36/40\n",
            " - 67s - loss: 0.0684 - acc: 0.9752 - f1_m: 0.9648 - precision_m: 0.9666 - recall_m: 0.9664 - val_loss: 1.3699 - val_acc: 0.7668 - val_f1_m: 0.6902 - val_precision_m: 0.6748 - val_recall_m: 0.7248\n",
            "Epoch 37/40\n",
            " - 68s - loss: 0.0670 - acc: 0.9757 - f1_m: 0.9655 - precision_m: 0.9675 - recall_m: 0.9668 - val_loss: 1.3474 - val_acc: 0.7744 - val_f1_m: 0.6843 - val_precision_m: 0.7048 - val_recall_m: 0.6842\n",
            "Epoch 38/40\n",
            " - 67s - loss: 0.0657 - acc: 0.9764 - f1_m: 0.9665 - precision_m: 0.9682 - recall_m: 0.9679 - val_loss: 1.3729 - val_acc: 0.7682 - val_f1_m: 0.6878 - val_precision_m: 0.6818 - val_recall_m: 0.7121\n",
            "Epoch 39/40\n",
            " - 68s - loss: 0.0632 - acc: 0.9769 - f1_m: 0.9672 - precision_m: 0.9688 - recall_m: 0.9686 - val_loss: 1.4002 - val_acc: 0.7673 - val_f1_m: 0.6909 - val_precision_m: 0.6749 - val_recall_m: 0.7265\n",
            "Epoch 40/40\n",
            " - 67s - loss: 0.0628 - acc: 0.9774 - f1_m: 0.9681 - precision_m: 0.9699 - recall_m: 0.9693 - val_loss: 1.3651 - val_acc: 0.7719 - val_f1_m: 0.6880 - val_precision_m: 0.6902 - val_recall_m: 0.7038\n",
            "Training ended at 2019-12-26 01:57:31.438105\n",
            "Minutes elapsed: 45.497337\n",
            "Maximum validation accuracy = 0.7786 (epoch 25)\n",
            "Test loss = 1.3521, test accuracy = 0.7710\n",
            "50536/50536 [==============================] - 7s 143us/step\n",
            "              precision    recall  f1-score   support\n",
            "\n",
            "           0       0.82      0.81      0.82     31784\n",
            "           1       0.69      0.70      0.69     18752\n",
            "\n",
            "    accuracy                           0.77     50536\n",
            "   macro avg       0.75      0.76      0.76     50536\n",
            "weighted avg       0.77      0.77      0.77     50536\n",
            "\n"
          ],
          "name": "stdout"
        },
        {
          "output_type": "execute_result",
          "data": {
            "image/png": "[encoded data removed]",
            "text/plain": [
              "<IPython.core.display.Image object>"
            ]
          },
          "metadata": {
            "tags": []
          },
          "execution_count": 50
        }
      ]
    },
    {
      "cell_type": "code",
      "metadata": {
        "id": "h0bl3v-9IP2I",
        "colab_type": "code",
        "colab": {
          "base_uri": "https://localhost:8080/",
          "height": 295
        },
        "outputId": "cbe65a3d-6091-4f4b-8799-00e10823ea1e"
      },
      "source": [
        "import sklearn.metrics as metrics\n",
        "# calculate the fpr and tpr for all thresholds of the classification\n",
        "#preds = probs[:,1]\n",
        "fpr, tpr, threshold = metrics.roc_curve(y_test, probs)\n",
        "roc_auc = metrics.auc(fpr, tpr)\n",
        "\n",
        "# method I: plt\n",
        "import matplotlib.pyplot as plt\n",
        "plt.title('Receiver Operating Characteristic')\n",
        "plt.plot(fpr, tpr, 'b', label = 'AUC = %0.2f' % roc_auc)\n",
        "plt.legend(loc = 'lower right')\n",
        "plt.plot([0, 1], [0, 1],'r--')\n",
        "plt.xlim([0, 1])\n",
        "plt.ylim([0, 1])\n",
        "plt.ylabel('True Positive Rate')\n",
        "plt.xlabel('False Positive Rate')\n",
        "plt.show()"
      ],
      "execution_count": null,
      "outputs": [
        {
          "output_type": "display_data",
          "data": {
            "image/png": "[encoded data removed]",
            "text/plain": [
              "<Figure size 432x288 with 1 Axes>"
            ]
          },
          "metadata": {
            "tags": []
          }
        }
      ]
    },
    {
      "cell_type": "markdown",
      "metadata": {
        "id": "t99XdTjCydck",
        "colab_type": "text"
      },
      "source": [
        "# BiLSTM"
      ]
    },
    {
      "cell_type": "code",
      "metadata": {
        "id": "SinhsPQi0qew",
        "colab_type": "code",
        "colab": {}
      },
      "source": [
        "from keras.models import Sequential, Model\n",
        "from keras.layers.core import Dense, Activation, Dropout\n",
        "from keras.layers.embeddings import Embedding\n",
        "from keras.layers.recurrent import LSTM, GRU\n",
        "from keras.layers.normalization import BatchNormalization\n",
        "from keras.utils import np_utils\n",
        "from keras.layers import Concatenate, Input, concatenate, dot, Flatten, Reshape, Bidirectional, add\n",
        "from keras.layers import TimeDistributed, Lambda\n",
        "from keras.layers import Convolution1D, GlobalMaxPooling1D\n",
        "from keras.callbacks import ModelCheckpoint\n",
        "from keras import backend as K\n",
        "from keras.layers.advanced_activations import PReLU\n",
        "from keras.preprocessing import sequence, text"
      ],
      "execution_count": null,
      "outputs": []
    },
    {
      "cell_type": "code",
      "metadata": {
        "id": "X6xPYilGHzYi",
        "colab_type": "code",
        "colab": {
          "base_uri": "https://localhost:8080/",
          "height": 1000
        },
        "outputId": "d1ac95bd-fac5-44e0-bec1-9027192506c8"
      },
      "source": [
        "input1 = Input(shape=(max_len,), dtype='int32')\n",
        "input2 = Input(shape=(max_len,), dtype='int32')\n",
        "EMBEDDING_DIM=300\n",
        "x1 = Embedding(vocab_size_q1 , \n",
        "                 EMBEDDING_DIM, \n",
        "                 weights=[createEmbeddingMatrix(wordIndex_q1)], \n",
        "                 input_length=max_len, \n",
        "                 trainable=False)(input1)\n",
        "\n",
        "x2 = Embedding(vocab_size_q2, \n",
        "                 EMBEDDING_DIM, \n",
        "                 weights=[createEmbeddingMatrix(wordIndex_q2)], \n",
        "                 input_length=max_len, \n",
        "                 trainable=False)(input2)\n",
        "x1 = Bidirectional(LSTM(128, dropout=0.15, recurrent_dropout=0.15))(x1)\n",
        "x2 = Bidirectional(LSTM(128, dropout=0.15, recurrent_dropout=0.15))(x2)\n",
        "\n",
        "z1 = Input(shape=(1,), dtype='float32')\n",
        "\n",
        "a1 = Input(shape=(1,), dtype='float32')\n",
        "b1 = Input(shape=(1,), dtype='float32')\n",
        "\n",
        "#x1 = Flatten()(x1)\n",
        "#x2 = Flatten()(x2)\n",
        "x = concatenate([x1, x2, z1, a1, b1])\n",
        "\n",
        "x = Dropout(0.1)(x1)\n",
        "x = BatchNormalization()(x)\n",
        "\n",
        "x = Dense(128, activation='relu')(x)\n",
        "x = Dropout(0.1)(x)\n",
        "x = BatchNormalization()(x)\n",
        "#inputs = Flatten()(inputs)\n",
        "#inputs = Dense(32, activation='relu')(inputs)\n",
        "final = Dense(1, activation='sigmoid')(x)\n",
        "\n",
        "model = Model(inputs=[input1,input2], outputs=final)\n",
        "print('a')\n",
        "model.compile(loss='binary_crossentropy', optimizer=optimizers.Adam(lr=0.0001)\n",
        ", metrics=['acc',f1_m,precision_m, recall_m])\n",
        "\n",
        "\n",
        "# Train the model, checkpointing weights with best validation accuracy\n",
        "print(\"Starting training at\", datetime.datetime.now())\n",
        "t0 = time.time()\n",
        "model_lstm_file='model_lstm_quora.h5'\n",
        "callbacks = [ModelCheckpoint(model_lstm_file, monitor='val_acc', save_best_only=True)] \n",
        "history = model.fit([X_train_q1, X_train_q2],\n",
        "                    y_train,\n",
        "                    epochs=60,\n",
        "                    validation_split=0.1,\n",
        "                    verbose=1,\n",
        "                    batch_size=2048,\n",
        "                    callbacks=callbacks)\n",
        "t1 = time.time()\n",
        "print(\"Training ended at\", datetime.datetime.now())\n",
        "print(\"Minutes elapsed: %f\" % ((t1 - t0) / 60.))\n",
        "\n",
        "\n"
      ],
      "execution_count": null,
      "outputs": [
        {
          "output_type": "stream",
          "text": [
            "a\n",
            "Starting training at 2019-12-25 22:33:22.493474\n",
            "Train on 318375 samples, validate on 35376 samples\n",
            "Epoch 1/60\n",
            "318375/318375 [==============================] - 73s 230us/step - loss: 0.7270 - acc: 0.5825 - f1_m: 0.5030 - precision_m: 0.4494 - recall_m: 0.5723 - val_loss: 0.6411 - val_acc: 0.6341 - val_f1_m: 0.5763 - val_precision_m: 0.5067 - val_recall_m: 0.6683\n",
            "Epoch 2/60\n",
            "318375/318375 [==============================] - 65s 203us/step - loss: 0.6452 - acc: 0.6405 - f1_m: 0.5298 - precision_m: 0.5121 - recall_m: 0.5498 - val_loss: 0.6042 - val_acc: 0.6712 - val_f1_m: 0.5853 - val_precision_m: 0.5521 - val_recall_m: 0.6229\n",
            "Epoch 3/60\n",
            "318375/318375 [==============================] - 65s 203us/step - loss: 0.6168 - acc: 0.6644 - f1_m: 0.5307 - precision_m: 0.5478 - recall_m: 0.5152 - val_loss: 0.5817 - val_acc: 0.6940 - val_f1_m: 0.5809 - val_precision_m: 0.5929 - val_recall_m: 0.5696\n",
            "Epoch 4/60\n",
            "318375/318375 [==============================] - 65s 203us/step - loss: 0.6013 - acc: 0.6811 - f1_m: 0.5327 - precision_m: 0.5792 - recall_m: 0.4935 - val_loss: 0.5716 - val_acc: 0.7021 - val_f1_m: 0.5826 - val_precision_m: 0.6093 - val_recall_m: 0.5584\n",
            "Epoch 5/60\n",
            "318375/318375 [==============================] - 66s 207us/step - loss: 0.5909 - acc: 0.6896 - f1_m: 0.5312 - precision_m: 0.5990 - recall_m: 0.4774 - val_loss: 0.5645 - val_acc: 0.7096 - val_f1_m: 0.5775 - val_precision_m: 0.6302 - val_recall_m: 0.5333\n",
            "Epoch 6/60\n",
            "318375/318375 [==============================] - 65s 206us/step - loss: 0.5842 - acc: 0.6952 - f1_m: 0.5319 - precision_m: 0.6129 - recall_m: 0.4700 - val_loss: 0.5589 - val_acc: 0.7143 - val_f1_m: 0.5764 - val_precision_m: 0.6436 - val_recall_m: 0.5222\n",
            "Epoch 7/60\n",
            "318375/318375 [==============================] - 64s 202us/step - loss: 0.5785 - acc: 0.7004 - f1_m: 0.5351 - precision_m: 0.6249 - recall_m: 0.4682 - val_loss: 0.5573 - val_acc: 0.7153 - val_f1_m: 0.5813 - val_precision_m: 0.6426 - val_recall_m: 0.5309\n",
            "Epoch 8/60\n",
            "318375/318375 [==============================] - 64s 201us/step - loss: 0.5740 - acc: 0.7034 - f1_m: 0.5371 - precision_m: 0.6323 - recall_m: 0.4670 - val_loss: 0.5534 - val_acc: 0.7183 - val_f1_m: 0.5761 - val_precision_m: 0.6552 - val_recall_m: 0.5143\n",
            "Epoch 9/60\n",
            "318375/318375 [==============================] - 64s 202us/step - loss: 0.5705 - acc: 0.7073 - f1_m: 0.5418 - precision_m: 0.6402 - recall_m: 0.4700 - val_loss: 0.5511 - val_acc: 0.7203 - val_f1_m: 0.5802 - val_precision_m: 0.6578 - val_recall_m: 0.5193\n",
            "Epoch 10/60\n",
            "318375/318375 [==============================] - 64s 202us/step - loss: 0.5665 - acc: 0.7096 - f1_m: 0.5444 - precision_m: 0.6455 - recall_m: 0.4709 - val_loss: 0.5497 - val_acc: 0.7218 - val_f1_m: 0.5824 - val_precision_m: 0.6603 - val_recall_m: 0.5212\n",
            "Epoch 11/60\n",
            "318375/318375 [==============================] - 65s 203us/step - loss: 0.5637 - acc: 0.7116 - f1_m: 0.5463 - precision_m: 0.6501 - recall_m: 0.4713 - val_loss: 0.5484 - val_acc: 0.7219 - val_f1_m: 0.5865 - val_precision_m: 0.6571 - val_recall_m: 0.5299\n",
            "Epoch 12/60\n",
            "318375/318375 [==============================] - 64s 202us/step - loss: 0.5610 - acc: 0.7137 - f1_m: 0.5487 - precision_m: 0.6547 - recall_m: 0.4725 - val_loss: 0.5472 - val_acc: 0.7224 - val_f1_m: 0.5907 - val_precision_m: 0.6549 - val_recall_m: 0.5381\n",
            "Epoch 13/60\n",
            "318375/318375 [==============================] - 64s 202us/step - loss: 0.5583 - acc: 0.7159 - f1_m: 0.5531 - precision_m: 0.6582 - recall_m: 0.4773 - val_loss: 0.5453 - val_acc: 0.7248 - val_f1_m: 0.5884 - val_precision_m: 0.6642 - val_recall_m: 0.5284\n",
            "Epoch 14/60\n",
            "318375/318375 [==============================] - 64s 202us/step - loss: 0.5558 - acc: 0.7175 - f1_m: 0.5546 - precision_m: 0.6619 - recall_m: 0.4776 - val_loss: 0.5439 - val_acc: 0.7270 - val_f1_m: 0.5912 - val_precision_m: 0.6681 - val_recall_m: 0.5305\n",
            "Epoch 15/60\n",
            "318375/318375 [==============================] - 64s 202us/step - loss: 0.5530 - acc: 0.7196 - f1_m: 0.5579 - precision_m: 0.6660 - recall_m: 0.4803 - val_loss: 0.5429 - val_acc: 0.7261 - val_f1_m: 0.5951 - val_precision_m: 0.6622 - val_recall_m: 0.5405\n",
            "Epoch 16/60\n",
            "318375/318375 [==============================] - 65s 203us/step - loss: 0.5511 - acc: 0.7210 - f1_m: 0.5600 - precision_m: 0.6687 - recall_m: 0.4820 - val_loss: 0.5420 - val_acc: 0.7265 - val_f1_m: 0.5981 - val_precision_m: 0.6604 - val_recall_m: 0.5467\n",
            "Epoch 17/60\n",
            "318375/318375 [==============================] - 65s 203us/step - loss: 0.5497 - acc: 0.7218 - f1_m: 0.5626 - precision_m: 0.6689 - recall_m: 0.4857 - val_loss: 0.5421 - val_acc: 0.7276 - val_f1_m: 0.6060 - val_precision_m: 0.6567 - val_recall_m: 0.5627\n",
            "Epoch 18/60\n",
            "318375/318375 [==============================] - 64s 203us/step - loss: 0.5477 - acc: 0.7234 - f1_m: 0.5647 - precision_m: 0.6722 - recall_m: 0.4871 - val_loss: 0.5400 - val_acc: 0.7287 - val_f1_m: 0.5987 - val_precision_m: 0.6663 - val_recall_m: 0.5438\n",
            "Epoch 19/60\n",
            "318375/318375 [==============================] - 65s 203us/step - loss: 0.5452 - acc: 0.7259 - f1_m: 0.5684 - precision_m: 0.6770 - recall_m: 0.4901 - val_loss: 0.5387 - val_acc: 0.7292 - val_f1_m: 0.6019 - val_precision_m: 0.6649 - val_recall_m: 0.5500\n",
            "Epoch 20/60\n",
            "318375/318375 [==============================] - 64s 202us/step - loss: 0.5439 - acc: 0.7260 - f1_m: 0.5697 - precision_m: 0.6761 - recall_m: 0.4925 - val_loss: 0.5374 - val_acc: 0.7289 - val_f1_m: 0.6010 - val_precision_m: 0.6651 - val_recall_m: 0.5483\n",
            "Epoch 21/60\n",
            "318375/318375 [==============================] - 65s 203us/step - loss: 0.5422 - acc: 0.7268 - f1_m: 0.5706 - precision_m: 0.6780 - recall_m: 0.4929 - val_loss: 0.5364 - val_acc: 0.7320 - val_f1_m: 0.6024 - val_precision_m: 0.6731 - val_recall_m: 0.5455\n",
            "Epoch 22/60\n",
            "318375/318375 [==============================] - 64s 202us/step - loss: 0.5411 - acc: 0.7280 - f1_m: 0.5728 - precision_m: 0.6801 - recall_m: 0.4949 - val_loss: 0.5358 - val_acc: 0.7321 - val_f1_m: 0.6058 - val_precision_m: 0.6703 - val_recall_m: 0.5528\n",
            "Epoch 23/60\n",
            "318375/318375 [==============================] - 64s 202us/step - loss: 0.5395 - acc: 0.7293 - f1_m: 0.5744 - precision_m: 0.6827 - recall_m: 0.4961 - val_loss: 0.5339 - val_acc: 0.7334 - val_f1_m: 0.6014 - val_precision_m: 0.6785 - val_recall_m: 0.5403\n",
            "Epoch 24/60\n",
            "318375/318375 [==============================] - 64s 202us/step - loss: 0.5381 - acc: 0.7299 - f1_m: 0.5757 - precision_m: 0.6837 - recall_m: 0.4975 - val_loss: 0.5341 - val_acc: 0.7340 - val_f1_m: 0.6074 - val_precision_m: 0.6743 - val_recall_m: 0.5527\n",
            "Epoch 25/60\n",
            "318375/318375 [==============================] - 65s 203us/step - loss: 0.5369 - acc: 0.7315 - f1_m: 0.5783 - precision_m: 0.6865 - recall_m: 0.4998 - val_loss: 0.5326 - val_acc: 0.7335 - val_f1_m: 0.6034 - val_precision_m: 0.6768 - val_recall_m: 0.5445\n",
            "Epoch 26/60\n",
            "318375/318375 [==============================] - 64s 202us/step - loss: 0.5356 - acc: 0.7315 - f1_m: 0.5794 - precision_m: 0.6853 - recall_m: 0.5021 - val_loss: 0.5328 - val_acc: 0.7344 - val_f1_m: 0.6096 - val_precision_m: 0.6735 - val_recall_m: 0.5569\n",
            "Epoch 27/60\n",
            "318375/318375 [==============================] - 64s 202us/step - loss: 0.5341 - acc: 0.7320 - f1_m: 0.5793 - precision_m: 0.6871 - recall_m: 0.5010 - val_loss: 0.5314 - val_acc: 0.7355 - val_f1_m: 0.6049 - val_precision_m: 0.6816 - val_recall_m: 0.5439\n",
            "Epoch 28/60\n",
            "318375/318375 [==============================] - 64s 202us/step - loss: 0.5327 - acc: 0.7341 - f1_m: 0.5832 - precision_m: 0.6906 - recall_m: 0.5051 - val_loss: 0.5304 - val_acc: 0.7362 - val_f1_m: 0.6059 - val_precision_m: 0.6829 - val_recall_m: 0.5447\n",
            "Epoch 29/60\n",
            "318375/318375 [==============================] - 64s 202us/step - loss: 0.5316 - acc: 0.7337 - f1_m: 0.5833 - precision_m: 0.6891 - recall_m: 0.5059 - val_loss: 0.5309 - val_acc: 0.7355 - val_f1_m: 0.6107 - val_precision_m: 0.6759 - val_recall_m: 0.5572\n",
            "Epoch 30/60\n",
            "318375/318375 [==============================] - 64s 202us/step - loss: 0.5308 - acc: 0.7347 - f1_m: 0.5850 - precision_m: 0.6904 - recall_m: 0.5078 - val_loss: 0.5294 - val_acc: 0.7368 - val_f1_m: 0.6106 - val_precision_m: 0.6800 - val_recall_m: 0.5544\n",
            "Epoch 31/60\n",
            "318375/318375 [==============================] - 64s 201us/step - loss: 0.5295 - acc: 0.7353 - f1_m: 0.5853 - precision_m: 0.6923 - recall_m: 0.5072 - val_loss: 0.5288 - val_acc: 0.7370 - val_f1_m: 0.6120 - val_precision_m: 0.6793 - val_recall_m: 0.5570\n",
            "Epoch 32/60\n",
            "318375/318375 [==============================] - 64s 201us/step - loss: 0.5281 - acc: 0.7364 - f1_m: 0.5886 - precision_m: 0.6928 - recall_m: 0.5119 - val_loss: 0.5284 - val_acc: 0.7380 - val_f1_m: 0.6128 - val_precision_m: 0.6814 - val_recall_m: 0.5570\n",
            "Epoch 33/60\n",
            "318375/318375 [==============================] - 64s 201us/step - loss: 0.5272 - acc: 0.7367 - f1_m: 0.5883 - precision_m: 0.6944 - recall_m: 0.5107 - val_loss: 0.5274 - val_acc: 0.7376 - val_f1_m: 0.6131 - val_precision_m: 0.6801 - val_recall_m: 0.5583\n",
            "Epoch 34/60\n",
            "318375/318375 [==============================] - 64s 202us/step - loss: 0.5263 - acc: 0.7378 - f1_m: 0.5905 - precision_m: 0.6958 - recall_m: 0.5132 - val_loss: 0.5288 - val_acc: 0.7366 - val_f1_m: 0.6213 - val_precision_m: 0.6687 - val_recall_m: 0.5804\n",
            "Epoch 35/60\n",
            "318375/318375 [==============================] - 64s 201us/step - loss: 0.5251 - acc: 0.7376 - f1_m: 0.5907 - precision_m: 0.6945 - recall_m: 0.5142 - val_loss: 0.5263 - val_acc: 0.7383 - val_f1_m: 0.6130 - val_precision_m: 0.6823 - val_recall_m: 0.5567\n",
            "Epoch 36/60\n",
            "318375/318375 [==============================] - 64s 201us/step - loss: 0.5240 - acc: 0.7394 - f1_m: 0.5938 - precision_m: 0.6977 - recall_m: 0.5171 - val_loss: 0.5252 - val_acc: 0.7395 - val_f1_m: 0.6128 - val_precision_m: 0.6862 - val_recall_m: 0.5539\n",
            "Epoch 37/60\n",
            "318375/318375 [==============================] - 64s 201us/step - loss: 0.5237 - acc: 0.7393 - f1_m: 0.5931 - precision_m: 0.6981 - recall_m: 0.5159 - val_loss: 0.5257 - val_acc: 0.7397 - val_f1_m: 0.6180 - val_precision_m: 0.6814 - val_recall_m: 0.5655\n",
            "Epoch 38/60\n",
            "318375/318375 [==============================] - 65s 203us/step - loss: 0.5228 - acc: 0.7400 - f1_m: 0.5958 - precision_m: 0.6976 - recall_m: 0.5202 - val_loss: 0.5250 - val_acc: 0.7399 - val_f1_m: 0.6169 - val_precision_m: 0.6834 - val_recall_m: 0.5624\n",
            "Epoch 39/60\n",
            "318375/318375 [==============================] - 65s 203us/step - loss: 0.5216 - acc: 0.7405 - f1_m: 0.5960 - precision_m: 0.6992 - recall_m: 0.5197 - val_loss: 0.5244 - val_acc: 0.7397 - val_f1_m: 0.6176 - val_precision_m: 0.6819 - val_recall_m: 0.5647\n",
            "Epoch 40/60\n",
            "318375/318375 [==============================] - 64s 202us/step - loss: 0.5208 - acc: 0.7412 - f1_m: 0.5978 - precision_m: 0.6997 - recall_m: 0.5220 - val_loss: 0.5232 - val_acc: 0.7414 - val_f1_m: 0.6155 - val_precision_m: 0.6895 - val_recall_m: 0.5561\n",
            "Epoch 41/60\n",
            "318375/318375 [==============================] - 64s 201us/step - loss: 0.5200 - acc: 0.7415 - f1_m: 0.5981 - precision_m: 0.7002 - recall_m: 0.5223 - val_loss: 0.5230 - val_acc: 0.7406 - val_f1_m: 0.6151 - val_precision_m: 0.6874 - val_recall_m: 0.5568\n",
            "Epoch 42/60\n",
            "318375/318375 [==============================] - 64s 201us/step - loss: 0.5181 - acc: 0.7429 - f1_m: 0.6008 - precision_m: 0.7024 - recall_m: 0.5252 - val_loss: 0.5225 - val_acc: 0.7417 - val_f1_m: 0.6163 - val_precision_m: 0.6897 - val_recall_m: 0.5572\n",
            "Epoch 43/60\n",
            "318375/318375 [==============================] - 64s 201us/step - loss: 0.5175 - acc: 0.7439 - f1_m: 0.6024 - precision_m: 0.7039 - recall_m: 0.5267 - val_loss: 0.5236 - val_acc: 0.7407 - val_f1_m: 0.6228 - val_precision_m: 0.6798 - val_recall_m: 0.5749\n",
            "Epoch 44/60\n",
            "318375/318375 [==============================] - 64s 202us/step - loss: 0.5171 - acc: 0.7434 - f1_m: 0.6010 - precision_m: 0.7038 - recall_m: 0.5247 - val_loss: 0.5215 - val_acc: 0.7427 - val_f1_m: 0.6191 - val_precision_m: 0.6902 - val_recall_m: 0.5615\n",
            "Epoch 45/60\n",
            "318375/318375 [==============================] - 64s 201us/step - loss: 0.5163 - acc: 0.7438 - f1_m: 0.6022 - precision_m: 0.7039 - recall_m: 0.5264 - val_loss: 0.5219 - val_acc: 0.7430 - val_f1_m: 0.6219 - val_precision_m: 0.6879 - val_recall_m: 0.5677\n",
            "Epoch 46/60\n",
            "318375/318375 [==============================] - 64s 202us/step - loss: 0.5155 - acc: 0.7446 - f1_m: 0.6045 - precision_m: 0.7039 - recall_m: 0.5301 - val_loss: 0.5220 - val_acc: 0.7425 - val_f1_m: 0.6268 - val_precision_m: 0.6812 - val_recall_m: 0.5806\n",
            "Epoch 47/60\n",
            "318375/318375 [==============================] - 64s 202us/step - loss: 0.5153 - acc: 0.7449 - f1_m: 0.6040 - precision_m: 0.7057 - recall_m: 0.5282 - val_loss: 0.5203 - val_acc: 0.7438 - val_f1_m: 0.6243 - val_precision_m: 0.6877 - val_recall_m: 0.5718\n",
            "Epoch 48/60\n",
            "318375/318375 [==============================] - 64s 202us/step - loss: 0.5141 - acc: 0.7464 - f1_m: 0.6074 - precision_m: 0.7069 - recall_m: 0.5327 - val_loss: 0.5207 - val_acc: 0.7433 - val_f1_m: 0.6258 - val_precision_m: 0.6847 - val_recall_m: 0.5765\n",
            "Epoch 49/60\n",
            "318375/318375 [==============================] - 64s 202us/step - loss: 0.5134 - acc: 0.7465 - f1_m: 0.6074 - precision_m: 0.7073 - recall_m: 0.5325 - val_loss: 0.5199 - val_acc: 0.7445 - val_f1_m: 0.6244 - val_precision_m: 0.6900 - val_recall_m: 0.5705\n",
            "Epoch 50/60\n",
            "318375/318375 [==============================] - 64s 201us/step - loss: 0.5131 - acc: 0.7459 - f1_m: 0.6068 - precision_m: 0.7060 - recall_m: 0.5324 - val_loss: 0.5194 - val_acc: 0.7435 - val_f1_m: 0.6227 - val_precision_m: 0.6886 - val_recall_m: 0.5685\n",
            "Epoch 51/60\n",
            "318375/318375 [==============================] - 64s 202us/step - loss: 0.5124 - acc: 0.7465 - f1_m: 0.6077 - precision_m: 0.7070 - recall_m: 0.5332 - val_loss: 0.5192 - val_acc: 0.7448 - val_f1_m: 0.6249 - val_precision_m: 0.6902 - val_recall_m: 0.5711\n",
            "Epoch 52/60\n",
            "318375/318375 [==============================] - 64s 201us/step - loss: 0.5114 - acc: 0.7466 - f1_m: 0.6081 - precision_m: 0.7069 - recall_m: 0.5338 - val_loss: 0.5195 - val_acc: 0.7442 - val_f1_m: 0.6291 - val_precision_m: 0.6840 - val_recall_m: 0.5826\n",
            "Epoch 53/60\n",
            "318375/318375 [==============================] - 65s 203us/step - loss: 0.5106 - acc: 0.7473 - f1_m: 0.6092 - precision_m: 0.7083 - recall_m: 0.5347 - val_loss: 0.5180 - val_acc: 0.7454 - val_f1_m: 0.6243 - val_precision_m: 0.6931 - val_recall_m: 0.5681\n",
            "Epoch 54/60\n",
            "318375/318375 [==============================] - 64s 202us/step - loss: 0.5097 - acc: 0.7479 - f1_m: 0.6108 - precision_m: 0.7084 - recall_m: 0.5371 - val_loss: 0.5166 - val_acc: 0.7462 - val_f1_m: 0.6183 - val_precision_m: 0.7029 - val_recall_m: 0.5521\n",
            "Epoch 55/60\n",
            "318375/318375 [==============================] - 64s 201us/step - loss: 0.5097 - acc: 0.7482 - f1_m: 0.6110 - precision_m: 0.7094 - recall_m: 0.5369 - val_loss: 0.5169 - val_acc: 0.7475 - val_f1_m: 0.6261 - val_precision_m: 0.6980 - val_recall_m: 0.5679\n",
            "Epoch 56/60\n",
            "318375/318375 [==============================] - 64s 202us/step - loss: 0.5091 - acc: 0.7483 - f1_m: 0.6122 - precision_m: 0.7081 - recall_m: 0.5394 - val_loss: 0.5168 - val_acc: 0.7470 - val_f1_m: 0.6254 - val_precision_m: 0.6971 - val_recall_m: 0.5673\n",
            "Epoch 57/60\n",
            "318375/318375 [==============================] - 64s 202us/step - loss: 0.5077 - acc: 0.7495 - f1_m: 0.6134 - precision_m: 0.7112 - recall_m: 0.5395 - val_loss: 0.5169 - val_acc: 0.7477 - val_f1_m: 0.6308 - val_precision_m: 0.6932 - val_recall_m: 0.5790\n",
            "Epoch 58/60\n",
            "318375/318375 [==============================] - 64s 203us/step - loss: 0.5072 - acc: 0.7499 - f1_m: 0.6139 - precision_m: 0.7120 - recall_m: 0.5397 - val_loss: 0.5160 - val_acc: 0.7481 - val_f1_m: 0.6280 - val_precision_m: 0.6977 - val_recall_m: 0.5712\n",
            "Epoch 59/60\n",
            "318375/318375 [==============================] - 64s 202us/step - loss: 0.5066 - acc: 0.7506 - f1_m: 0.6158 - precision_m: 0.7124 - recall_m: 0.5426 - val_loss: 0.5159 - val_acc: 0.7489 - val_f1_m: 0.6280 - val_precision_m: 0.7004 - val_recall_m: 0.5694\n",
            "Epoch 60/60\n",
            "318375/318375 [==============================] - 65s 203us/step - loss: 0.5058 - acc: 0.7506 - f1_m: 0.6162 - precision_m: 0.7118 - recall_m: 0.5436 - val_loss: 0.5156 - val_acc: 0.7476 - val_f1_m: 0.6270 - val_precision_m: 0.6971 - val_recall_m: 0.5700\n",
            "Training ended at 2019-12-25 23:38:10.692952\n",
            "Minutes elapsed: 64.803320\n"
          ],
          "name": "stdout"
        }
      ]
    },
    {
      "cell_type": "code",
      "metadata": {
        "id": "Fv5G5LcMOnfS",
        "colab_type": "code",
        "colab": {
          "base_uri": "https://localhost:8080/",
          "height": 212
        },
        "outputId": "42a2391f-3a19-4bf9-95e8-c77fa316df39"
      },
      "source": [
        "# Print best validation accuracy and epoch\n",
        "from keras.utils import plot_model \n",
        "max_val_acc, idx = max((val, idx) for (idx, val) in enumerate(history.history['val_acc']))\n",
        "print('Maximum validation accuracy = {0:.4f} (epoch {1:d})'.format(max_val_acc, idx+1))\n",
        "# Evaluate the model with best validation accuracy on the test partition\n",
        "loss, accuracy, f1_score, precision, recall = model.evaluate([ np.array(X_test_q1), np.array(X_test_q2)], y_test, verbose=0)\n",
        "print('Test loss = {0:.4f}, test accuracy = {1:.4f}'.format(loss, accuracy))\n",
        "\n",
        "plot_model(model, to_file='model_lstm_quora.png')\n",
        "probs = model.predict([ np.array(X_test_q1), np.array(X_test_q2)], verbose=1)\n",
        "predicted_classes=[0 if i < 0.5 else 1 for i in probs]\n",
        "  #predicted_classes = bilstm_attention_model.predict_classes(X_test_initial, verbose=1)\n",
        "  #print(predicted_classes)\n",
        "\n",
        "print(classification_report(y_test, predicted_classes))\n",
        "  #filename = 'finalized_model_cnn.sav'\n"
      ],
      "execution_count": null,
      "outputs": [
        {
          "output_type": "stream",
          "text": [
            "Maximum validation accuracy = 0.7489 (epoch 59)\n",
            "Test loss = 0.5177, test accuracy = 0.7470\n",
            "50536/50536 [==============================] - 248s 5ms/step\n",
            "              precision    recall  f1-score   support\n",
            "\n",
            "           0       0.77      0.85      0.81     31784\n",
            "           1       0.69      0.57      0.62     18752\n",
            "\n",
            "    accuracy                           0.75     50536\n",
            "   macro avg       0.73      0.71      0.72     50536\n",
            "weighted avg       0.74      0.75      0.74     50536\n",
            "\n"
          ],
          "name": "stdout"
        }
      ]
    },
    {
      "cell_type": "code",
      "metadata": {
        "id": "OU9BUcV1Fk6d",
        "colab_type": "code",
        "colab": {}
      },
      "source": [
        "import pickle \n",
        "# Print best validation accuracy and epoch\n",
        "max_val_acc, idx = max((val, idx) for (idx, val) in enumerate(history.history['val_acc']))\n",
        "print('Maximum validation accuracy = {0:.4f} (epoch {1:d})'.format(max_val_acc, idx+1))\n",
        "\n",
        "# Evaluate the model with best validation accuracy on the test partition\n",
        "model.load_weights(model_lstm_file)\n",
        "loss, accuracy, f1_score, precision, recall = model.evaluate([ np.array(X_test_q1), np.array(X_test_q2)], y_test, verbose=0)\n",
        "print('Test loss = {0:.4f}, test accuracy = {1:.4f}'.format(loss, accuracy))\n",
        "\n",
        "\n",
        "probs = model.predict([ np.array(X_test_q1), np.array(X_test_q2)], verbose=1)\n",
        "predicted_classes=[0 if i < 0.5 else 1 for i in probs]\n",
        "  #predicted_classes = bilstm_attention_model.predict_classes(X_test_initial, verbose=1)\n",
        "  #print(predicted_classes)\n",
        "\n",
        "print(classification_report(y_test, predicted_classes))\n",
        "  #filename = 'finalized_model_cnn.sav'\n",
        "pickle.dump(model, open(model_lstm_file, 'wb'))"
      ],
      "execution_count": null,
      "outputs": []
    }
  ]
}